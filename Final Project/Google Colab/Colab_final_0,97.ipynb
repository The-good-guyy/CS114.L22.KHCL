{
  "nbformat": 4,
  "nbformat_minor": 0,
  "metadata": {
    "colab": {
      "name": "Colab final 0,97.ipynb",
      "provenance": [],
      "collapsed_sections": [],
      "include_colab_link": true
    },
    "kernelspec": {
      "name": "python3",
      "display_name": "Python 3"
    },
    "language_info": {
      "name": "python"
    }
  },
  "cells": [
    {
      "cell_type": "markdown",
      "metadata": {
        "id": "view-in-github",
        "colab_type": "text"
      },
      "source": [
        "<a href=\"https://colab.research.google.com/github/noeffortnomoney/CS114.L22.KHCL/blob/main/Final%20Project/Google%20Colab/Colab_final_0%2C97.ipynb\" target=\"_parent\"><img src=\"https://colab.research.google.com/assets/colab-badge.svg\" alt=\"Open In Colab\"/></a>"
      ]
    },
    {
      "cell_type": "code",
      "metadata": {
        "colab": {
          "base_uri": "https://localhost:8080/"
        },
        "id": "3NisNz8Txpxr",
        "outputId": "f7d5f336-dd6d-4caf-8dd5-eff63fa6889b"
      },
      "source": [
        "from google.colab import drive\n",
        "drive.mount('/content/gdrive')"
      ],
      "execution_count": null,
      "outputs": [
        {
          "output_type": "stream",
          "text": [
            "Mounted at /content/gdrive\n"
          ],
          "name": "stdout"
        }
      ]
    },
    {
      "cell_type": "code",
      "metadata": {
        "id": "0t-pbfkS32DL"
      },
      "source": [
        "import tensorflow as tf\n",
        "import matplotlib.pyplot as plt\n",
        "import cv2\n",
        "import os\n",
        "import numpy as np\n",
        "from tensorflow.keras.preprocessing.image import ImageDataGenerator\n",
        "from tensorflow.keras.preprocessing import image\n",
        "import matplotlib.image as mpimg"
      ],
      "execution_count": null,
      "outputs": []
    },
    {
      "cell_type": "code",
      "metadata": {
        "id": "hhrIleHI36Cg"
      },
      "source": [
        "from tensorflow.keras.models import Sequential\n",
        "from tensorflow.keras.layers import Dense, Dropout, Activation, Flatten, Conv2D, MaxPooling2D, TimeDistributed ,LSTM\n",
        "from tensorflow.keras.utils import to_categorical"
      ],
      "execution_count": null,
      "outputs": []
    },
    {
      "cell_type": "code",
      "metadata": {
        "id": "NeNT0TQm39zI"
      },
      "source": [
        "import numpy as np\n",
        "from sklearn.model_selection import train_test_split\n",
        "from sklearn.metrics import classification_report,confusion_matrix,accuracy_score,f1_score\n",
        "import seaborn as sns"
      ],
      "execution_count": null,
      "outputs": []
    },
    {
      "cell_type": "code",
      "metadata": {
        "id": "lza5ZQPi4CcW"
      },
      "source": [
        "from keras.layers import Dense, Dropout, Flatten, Conv2D, MaxPool2D, BatchNormalization,\\\n",
        "                        Permute, TimeDistributed, Bidirectional,GRU\n",
        "from keras.optimizers import RMSprop"
      ],
      "execution_count": null,
      "outputs": []
    },
    {
      "cell_type": "code",
      "metadata": {
        "id": "IRGWSkFb4FXR"
      },
      "source": [
        "import imageio\n",
        "import imgaug as ia\n",
        "import imgaug.augmenters as iaa\n",
        "import numpy as np\n",
        "import pandas as pd"
      ],
      "execution_count": null,
      "outputs": []
    },
    {
      "cell_type": "code",
      "metadata": {
        "id": "LDFGs9TRHldm"
      },
      "source": [
        "datadir='/content/gdrive/My Drive/Dataset Chữ viết tay (Final)/dataset chữ viết tay Tiếng Việt (Final)'\n",
        "dataset=[]"
      ],
      "execution_count": null,
      "outputs": []
    },
    {
      "cell_type": "code",
      "metadata": {
        "id": "ial810ZL4MLT"
      },
      "source": [
        "def very_new_contrast(new_arrayzz):\n",
        "  width , height = new_arrayzz.shape\n",
        "  new_arrayzzz=new_arrayzz\n",
        "  for x in range(0,width):\n",
        "          for y in range(0,height):\n",
        "              if new_arrayzzz[x,y] >= 210:            \n",
        "                  new_arrayzzz[x,y] = 255\n",
        "              elif new_arrayzzz[x,y] <=80 :\n",
        "                  new_arrayzzz[x,y] = 0\n",
        "              elif new_arrayzzz[x,y]>80 and new_arrayzzz[x,y]<=100:\n",
        "                new_arrayzzz[x,y]=new_arrayzzz[x,y]//3-10\n",
        "              elif new_arrayzzz[x,y]>100 and new_arrayzzz[x,y]<=140:\n",
        "                new_arrayzzz[x,y]=new_arrayzzz[x,y]//2-30\n",
        "              elif new_arrayzzz[x,y]>140 and new_arrayzzz[x,y]<190:\n",
        "                new_arrayzzz[x,y]=new_arrayzzz[x,y]*2//3+10\n",
        "  return new_arrayzzz"
      ],
      "execution_count": null,
      "outputs": []
    },
    {
      "cell_type": "code",
      "metadata": {
        "id": "uGmnxXoRmEAa"
      },
      "source": [
        "def the_very_last_contrast_layer(new_arrayzz):\n",
        "  width , height = new_arrayzz.shape\n",
        "  new_arrayzzz=new_arrayzz\n",
        "  for x in range(0,width):\n",
        "          for y in range(0,height):\n",
        "              if new_arrayzzz[x,y] >= 220:            \n",
        "                  new_arrayzzz[x,y] = 255\n",
        "              elif new_arrayzzz[x,y] <=30 :\n",
        "                  new_arrayzzz[x,y] = 0\n",
        "              elif new_arrayzzz[x,y]>30 and new_arrayzzz[x,y]<60:\n",
        "                new_arrayzzz[x,y]=new_arrayzzz[x,y]*2//3-10\n",
        "              elif new_arrayzzz[x,y]>60 and new_arrayzzz[x,y]<90:\n",
        "                new_arrayzzz[x,y]=new_arrayzzz[x,y]//2+20\n",
        "  return new_arrayzzz"
      ],
      "execution_count": null,
      "outputs": []
    },
    {
      "cell_type": "code",
      "metadata": {
        "id": "EHZ5rXMr4OL1"
      },
      "source": [
        "def the_last_contrast_layer(new_arrayzz):\n",
        "  width , height = new_arrayzz.shape\n",
        "  new_arrayzzz=new_arrayzz\n",
        "  for x in range(0,width):\n",
        "          for y in range(0,height):\n",
        "              if new_arrayzzz[x,y] >= 220:            \n",
        "                  new_arrayzzz[x,y] = 255\n",
        "              elif new_arrayzzz[x,y] <=40 :\n",
        "                  new_arrayzzz[x,y] = 0\n",
        "              elif new_arrayzzz[x,y]>40 and new_arrayzzz[x,y]<80:\n",
        "                new_arrayzzz[x,y]=new_arrayzzz[x,y]*2//3-10\n",
        "  return new_arrayzzz"
      ],
      "execution_count": null,
      "outputs": []
    },
    {
      "cell_type": "code",
      "metadata": {
        "id": "Wg7TnLPa4TZ8"
      },
      "source": [
        "categories=[]"
      ],
      "execution_count": null,
      "outputs": []
    },
    {
      "cell_type": "code",
      "metadata": {
        "id": "-xTpkf-f4XBM"
      },
      "source": [
        "for label in os.listdir(datadir):\n",
        "  categories.append(label)"
      ],
      "execution_count": null,
      "outputs": []
    },
    {
      "cell_type": "code",
      "metadata": {
        "colab": {
          "base_uri": "https://localhost:8080/"
        },
        "id": "k_tdvugJ4Y5q",
        "outputId": "283dcb31-ebee-4126-a810-0b43009e763e"
      },
      "source": [
        "print(len(categories))"
      ],
      "execution_count": null,
      "outputs": [
        {
          "output_type": "stream",
          "text": [
            "89\n"
          ],
          "name": "stdout"
        }
      ]
    },
    {
      "cell_type": "code",
      "metadata": {
        "id": "jkqnGxxFbyjL"
      },
      "source": [
        "# for category in categories:\n",
        "#   path=os.path.join(datadir,category)\n",
        "#   class_num=categories.index(category)\n",
        "#   for img in os.listdir(path):\n",
        "#     IMG_SIZE=28\n",
        "#     img_array=cv2.imread(os.path.join(path,img),cv2.IMREAD_GRAYSCALE)\n",
        "#     try:\n",
        "#       contrasted_img=very_new_contrast(img_array)\n",
        "#       blur_img=cv2.blur(contrasted_img,(2,2))\n",
        "#       new_array=cv2.resize(blur_img,(IMG_SIZE,IMG_SIZE))\n",
        "#       last_img=the_last_contrast_layer(new_array)\n",
        "#       reversed_img=cv2.bitwise_not(last_img)\n",
        "#       dataset.append([reversed_img,class_num])\n",
        "#     except:\n",
        "#       pass"
      ],
      "execution_count": null,
      "outputs": []
    },
    {
      "cell_type": "code",
      "metadata": {
        "id": "_S6NYiK-t_r-"
      },
      "source": [
        "for category in categories:\n",
        "  path=os.path.join(datadir,category)\n",
        "  class_num=categories.index(category)\n",
        "  IMG_SIZE=28\n",
        "  kernel = np.ones((1,1),np.uint8)\n",
        "  for img in os.listdir(path):\n",
        "    img_array=cv2.imread(os.path.join(path,img),cv2.IMREAD_GRAYSCALE)\n",
        "    try:\n",
        "      reversed_img=cv2.bitwise_not(img_array)\n",
        "      blur_img=cv2.GaussianBlur(reversed_img,(5,5),0)\n",
        "      resized_img=cv2.resize(blur_img,(IMG_SIZE,IMG_SIZE))\n",
        "      dataset.append([resized_img,class_num])\n",
        "    except:\n",
        "      pass"
      ],
      "execution_count": null,
      "outputs": []
    },
    {
      "cell_type": "code",
      "metadata": {
        "id": "X5CRBWUNuFs1",
        "colab": {
          "base_uri": "https://localhost:8080/"
        },
        "outputId": "ca43550c-9df2-4ae2-c2fd-4953c6ec8423"
      },
      "source": [
        "print(len(dataset))"
      ],
      "execution_count": null,
      "outputs": [
        {
          "output_type": "stream",
          "text": [
            "50114\n"
          ],
          "name": "stdout"
        }
      ]
    },
    {
      "cell_type": "code",
      "metadata": {
        "id": "D1ZegFJy4jPW"
      },
      "source": [
        "X=[]\n",
        "y=[]"
      ],
      "execution_count": null,
      "outputs": []
    },
    {
      "cell_type": "code",
      "metadata": {
        "id": "hck0A0104lhf"
      },
      "source": [
        "import random\n",
        "random.shuffle(dataset)"
      ],
      "execution_count": null,
      "outputs": []
    },
    {
      "cell_type": "code",
      "metadata": {
        "colab": {
          "base_uri": "https://localhost:8080/",
          "height": 282
        },
        "id": "R19rzJJN4mXB",
        "outputId": "b85a6800-6267-4d1c-e2cb-95418489245d"
      },
      "source": [
        "plt.imshow(dataset[111][0],cmap='gray')\n",
        "plt.show()\n",
        "print(categories[dataset[111][1]])"
      ],
      "execution_count": null,
      "outputs": [
        {
          "output_type": "display_data",
          "data": {
            "image/png": "[encoded data removed]",
            "text/plain": [
              "<Figure size 432x288 with 1 Axes>"
            ]
          },
          "metadata": {
            "tags": [],
            "needs_background": "light"
          }
        },
        {
          "output_type": "stream",
          "text": [
            "ư\n"
          ],
          "name": "stdout"
        }
      ]
    },
    {
      "cell_type": "code",
      "metadata": {
        "id": "XrBMtX7_4sK1"
      },
      "source": [
        "for feature,label in dataset:\n",
        "  X.append(feature)\n",
        "  y.append(label)"
      ],
      "execution_count": null,
      "outputs": []
    },
    {
      "cell_type": "code",
      "metadata": {
        "colab": {
          "base_uri": "https://localhost:8080/",
          "height": 282
        },
        "id": "_CuumzDq4wRl",
        "outputId": "4d904f55-e606-43c1-b2a0-880e53a49687"
      },
      "source": [
        "plt.imshow(X[46],cmap='gray')\n",
        "plt.show()\n",
        "print(categories[y[46]])"
      ],
      "execution_count": null,
      "outputs": [
        {
          "output_type": "display_data",
          "data": {
            "image/png": "[encoded data removed]",
            "text/plain": [
              "<Figure size 432x288 with 1 Axes>"
            ]
          },
          "metadata": {
            "tags": [],
            "needs_background": "light"
          }
        },
        {
          "output_type": "stream",
          "text": [
            "ẩ\n"
          ],
          "name": "stdout"
        }
      ]
    },
    {
      "cell_type": "code",
      "metadata": {
        "id": "YNCyldpk4yif"
      },
      "source": [
        "rotated_dataset=[]"
      ],
      "execution_count": null,
      "outputs": []
    },
    {
      "cell_type": "code",
      "metadata": {
        "id": "BCc4cCaE4277"
      },
      "source": [
        "left_shift_dataset=[]"
      ],
      "execution_count": null,
      "outputs": []
    },
    {
      "cell_type": "code",
      "metadata": {
        "id": "32QOZJRz44kw"
      },
      "source": [
        "shift_rotated_dataset=[]"
      ],
      "execution_count": null,
      "outputs": []
    },
    {
      "cell_type": "code",
      "metadata": {
        "id": "g4pu_oof4-yb"
      },
      "source": [
        "from sklearn.model_selection import train_test_split\n",
        "X_train_val, X_test, y_train_val, y_test = train_test_split(X, y, test_size=0.2, random_state=42)"
      ],
      "execution_count": null,
      "outputs": []
    },
    {
      "cell_type": "code",
      "metadata": {
        "id": "LVsl5P6J5Rkm"
      },
      "source": [
        "from sklearn.model_selection import train_test_split\n",
        "X_train, X_val, y_train, y_val = train_test_split(X_train_val, y_train_val, test_size=0.25, random_state=42)"
      ],
      "execution_count": null,
      "outputs": []
    },
    {
      "cell_type": "code",
      "metadata": {
        "id": "_9LETE_L5mKh"
      },
      "source": [
        "rotate=iaa.Affine(rotate=(-10, -15),cval=40)\n",
        "for index in range (len(X_train)):\n",
        "  rotated_image=rotate.augment_image(X_train[index])\n",
        "  rotated_dataset.append([rotated_image,y_train[index]])"
      ],
      "execution_count": null,
      "outputs": []
    },
    {
      "cell_type": "code",
      "metadata": {
        "colab": {
          "base_uri": "https://localhost:8080/",
          "height": 282
        },
        "id": "j_kdVm7q5nZQ",
        "outputId": "0a460614-c6ab-4d10-f494-9ffd3523c1c2"
      },
      "source": [
        "plt.imshow(rotated_dataset[39][0],cmap='gray')\n",
        "plt.show()\n",
        "print(categories[rotated_dataset[39][1]])"
      ],
      "execution_count": null,
      "outputs": [
        {
          "output_type": "display_data",
          "data": {
            "image/png": "[encoded data removed]",
            "text/plain": [
              "<Figure size 432x288 with 1 Axes>"
            ]
          },
          "metadata": {
            "tags": [],
            "needs_background": "light"
          }
        },
        {
          "output_type": "stream",
          "text": [
            "ỉ\n"
          ],
          "name": "stdout"
        }
      ]
    },
    {
      "cell_type": "code",
      "metadata": {
        "id": "VDBBPq245rWQ"
      },
      "source": [
        "translate=iaa.Affine(translate_percent={\"x\": (-0.1, -0.05)},cval=30)\n",
        "for index in range(len(X_train)):\n",
        "  translated_image=translate.augment_image(X_train[index])\n",
        "  left_shift_dataset.append([translated_image,y_train[index]])"
      ],
      "execution_count": null,
      "outputs": []
    },
    {
      "cell_type": "code",
      "metadata": {
        "colab": {
          "base_uri": "https://localhost:8080/",
          "height": 282
        },
        "id": "T7pF2byM5x5f",
        "outputId": "19226c2a-60fe-40f9-a523-c146fa05278d"
      },
      "source": [
        "plt.imshow(left_shift_dataset[145][0],cmap='gray')\n",
        "plt.show()\n",
        "print(categories[left_shift_dataset[145][1]])"
      ],
      "execution_count": null,
      "outputs": [
        {
          "output_type": "display_data",
          "data": {
            "image/png": "[encoded data removed]",
            "text/plain": [
              "<Figure size 432x288 with 1 Axes>"
            ]
          },
          "metadata": {
            "tags": [],
            "needs_background": "light"
          }
        },
        {
          "output_type": "stream",
          "text": [
            "e\n"
          ],
          "name": "stdout"
        }
      ]
    },
    {
      "cell_type": "code",
      "metadata": {
        "id": "WbzYIKGW5683"
      },
      "source": [
        "for index in range(len(left_shift_dataset)):\n",
        "  translated_image=translate.augment_image(left_shift_dataset[index][0])\n",
        "  shift_rotated_dataset.append([translated_image,left_shift_dataset[index][1]])"
      ],
      "execution_count": null,
      "outputs": []
    },
    {
      "cell_type": "code",
      "metadata": {
        "colab": {
          "base_uri": "https://localhost:8080/",
          "height": 282
        },
        "id": "R7IFGN495_NS",
        "outputId": "6cf1a993-3d16-4e40-c6f3-c503a4adb623"
      },
      "source": [
        "plt.imshow(shift_rotated_dataset[1450][0],cmap='gray')\n",
        "plt.show()\n",
        "print(categories[shift_rotated_dataset[1450][1]])"
      ],
      "execution_count": null,
      "outputs": [
        {
          "output_type": "display_data",
          "data": {
            "image/png": "[encoded data removed]",
            "text/plain": [
              "<Figure size 432x288 with 1 Axes>"
            ]
          },
          "metadata": {
            "tags": [],
            "needs_background": "light"
          }
        },
        {
          "output_type": "stream",
          "text": [
            "ỗ\n"
          ],
          "name": "stdout"
        }
      ]
    },
    {
      "cell_type": "code",
      "metadata": {
        "id": "MnaCsZ7p6CJ3"
      },
      "source": [
        "New_Training_dataset=[]"
      ],
      "execution_count": null,
      "outputs": []
    },
    {
      "cell_type": "code",
      "metadata": {
        "id": "sCZv54rg6G2F"
      },
      "source": [
        "for index in range (len(rotated_dataset)):\n",
        "  New_Training_dataset.append([rotated_dataset[index][0],rotated_dataset[index][1]])\n",
        "for index in range(len(X_train)):\n",
        "  New_Training_dataset.append([X_train[index],y_train[index]])\n",
        "for index in range(len(left_shift_dataset)):\n",
        "  New_Training_dataset.append([left_shift_dataset[index][0],left_shift_dataset[index][1]])\n",
        "for index in range(len(shift_rotated_dataset)):\n",
        "  New_Training_dataset.append([shift_rotated_dataset[index][0],shift_rotated_dataset[index][1]])"
      ],
      "execution_count": null,
      "outputs": []
    },
    {
      "cell_type": "code",
      "metadata": {
        "colab": {
          "base_uri": "https://localhost:8080/",
          "height": 282
        },
        "id": "S7FkhWG_6JsE",
        "outputId": "2ba01265-7c3b-4aaf-e499-eee3c73a734a"
      },
      "source": [
        "plt.imshow(New_Training_dataset[7000][0],cmap='gray')\n",
        "plt.show()\n",
        "print(categories[New_Training_dataset[7000][1]])"
      ],
      "execution_count": null,
      "outputs": [
        {
          "output_type": "display_data",
          "data": {
            "image/png": "[encoded data removed]",
            "text/plain": [
              "<Figure size 432x288 with 1 Axes>"
            ]
          },
          "metadata": {
            "tags": [],
            "needs_background": "light"
          }
        },
        {
          "output_type": "stream",
          "text": [
            "ừ\n"
          ],
          "name": "stdout"
        }
      ]
    },
    {
      "cell_type": "code",
      "metadata": {
        "colab": {
          "base_uri": "https://localhost:8080/"
        },
        "id": "Zkppy6Bu6L_Y",
        "outputId": "fa96361d-da5f-47a7-e974-b5b4ef5c90e9"
      },
      "source": [
        "print(len(New_Training_dataset))"
      ],
      "execution_count": null,
      "outputs": [
        {
          "output_type": "stream",
          "text": [
            "120272\n"
          ],
          "name": "stdout"
        }
      ]
    },
    {
      "cell_type": "code",
      "metadata": {
        "id": "mfT6BISF6Oii"
      },
      "source": [
        "random.shuffle(New_Training_dataset)"
      ],
      "execution_count": null,
      "outputs": []
    },
    {
      "cell_type": "code",
      "metadata": {
        "id": "TeieU-K_6Qf1"
      },
      "source": [
        "X_trainz=[]\n",
        "y_trainz=[]"
      ],
      "execution_count": null,
      "outputs": []
    },
    {
      "cell_type": "code",
      "metadata": {
        "id": "Z8hx3win6Snm"
      },
      "source": [
        "for feature,label in New_Training_dataset:\n",
        "  X_trainz.append(feature)\n",
        "  y_trainz.append(label)"
      ],
      "execution_count": null,
      "outputs": []
    },
    {
      "cell_type": "code",
      "metadata": {
        "colab": {
          "base_uri": "https://localhost:8080/"
        },
        "id": "pYTfsGwK6UiH",
        "outputId": "31cbb075-76a7-4a22-8a00-ddfc3fd2c68a"
      },
      "source": [
        "print(y_trainz[44])"
      ],
      "execution_count": null,
      "outputs": [
        {
          "output_type": "stream",
          "text": [
            "71\n"
          ],
          "name": "stdout"
        }
      ]
    },
    {
      "cell_type": "code",
      "metadata": {
        "colab": {
          "base_uri": "https://localhost:8080/"
        },
        "id": "j-Dg77cg6XDN",
        "outputId": "9f10f25a-a847-4425-bea3-1ad88f342888"
      },
      "source": [
        "print(y_val[55])"
      ],
      "execution_count": null,
      "outputs": [
        {
          "output_type": "stream",
          "text": [
            "13\n"
          ],
          "name": "stdout"
        }
      ]
    },
    {
      "cell_type": "code",
      "metadata": {
        "id": "_KFvBaOX6YX8"
      },
      "source": [
        "X_trainz =np.array(X_trainz).reshape(-1,28,28,1)\n",
        "X_val=np.array(X_val).reshape(-1,28,28,1)\n",
        "X_test=np.array(X_test).reshape(-1,28,28,1)"
      ],
      "execution_count": null,
      "outputs": []
    },
    {
      "cell_type": "code",
      "metadata": {
        "colab": {
          "base_uri": "https://localhost:8080/"
        },
        "id": "s4LP6Yls6qkb",
        "outputId": "f6524d3f-3fb7-4a03-f7c3-c309c21c858f"
      },
      "source": [
        "print(X_trainz.shape)"
      ],
      "execution_count": null,
      "outputs": [
        {
          "output_type": "stream",
          "text": [
            "(120272, 28, 28, 1)\n"
          ],
          "name": "stdout"
        }
      ]
    },
    {
      "cell_type": "code",
      "metadata": {
        "id": "JA5kZO4v6tgp"
      },
      "source": [
        "y_trainz =tf.keras.utils .to_categorical(y_trainz)\n",
        "y_val = tf.keras.utils.to_categorical(y_val)\n",
        "y_test =tf.keras.utils.to_categorical(y_test)"
      ],
      "execution_count": null,
      "outputs": []
    },
    {
      "cell_type": "code",
      "metadata": {
        "colab": {
          "base_uri": "https://localhost:8080/"
        },
        "id": "9lJuXa5O65nv",
        "outputId": "91fd1fcb-91dd-48fb-fcf6-8578e3477114"
      },
      "source": [
        "print(y_val.shape)"
      ],
      "execution_count": null,
      "outputs": [
        {
          "output_type": "stream",
          "text": [
            "(10023, 89)\n"
          ],
          "name": "stdout"
        }
      ]
    },
    {
      "cell_type": "code",
      "metadata": {
        "id": "IRf1d3d367_q"
      },
      "source": [
        "X_trainz=X_trainz/255.0\n",
        "X_val=X_val/255.0\n",
        "X_test=X_test/255.0"
      ],
      "execution_count": null,
      "outputs": []
    },
    {
      "cell_type": "code",
      "metadata": {
        "id": "Ur2s3udc7FnN"
      },
      "source": [
        "from keras.models import Sequential\n",
        "from keras.layers import Dense, Dropout, Flatten, Conv2D, MaxPool2D, BatchNormalization,\\\n",
        "                        Permute, TimeDistributed, Bidirectional,GRU\n",
        "from keras.layers import LeakyReLU\n",
        "from keras.optimizers import RMSprop\n",
        "from keras.preprocessing.image import ImageDataGenerator\n",
        "from keras.callbacks import ReduceLROnPlateau\n",
        "hidden_unit = 32\n",
        "kernel_size = 3\n",
        "\n",
        "model = Sequential()\n",
        "model.add(Conv2D(filters = 64, kernel_size = (3,3),padding=\"Same\", activation ='relu',input_shape = (28,28,1)))\n",
        "model.add(Conv2D(filters = 64, kernel_size = (3,3),padding=\"Same\",  activation ='relu'))\n",
        "model.add(BatchNormalization())\n",
        "\n",
        "model.add(MaxPool2D(pool_size=(2,2),strides=(2,2)))\n",
        "model.add(Dropout(0.25))\n",
        "\n",
        "model.add(Conv2D(filters = 128, kernel_size = (3,3),padding=\"Same\", activation ='relu'))\n",
        "model.add(Conv2D(filters = 128, kernel_size = (3,3),padding=\"Same\", activation ='relu'))\n",
        "model.add(BatchNormalization())\n",
        "\n",
        "model.add(MaxPool2D(pool_size=(2,2), strides=(2,2)))\n",
        "model.add(Dropout(0.25))\n",
        "\n",
        "model.add(Conv2D(filters = 256, kernel_size = (3,3),padding=\"Same\", activation ='relu'))\n",
        "model.add(Conv2D(filters = 256, kernel_size = (3,3),padding=\"Same\", activation ='relu'))\n",
        "model.add(BatchNormalization())\n",
        "\n",
        "model.add(MaxPool2D(pool_size=(1,2), strides=(1,2)))\n",
        "model.add(Dropout(0.25))\n",
        "\n",
        "model.add(TimeDistributed(Flatten()))\n",
        "model.add(Bidirectional(GRU(hidden_unit,return_sequences=True)))\n",
        "model.add(Flatten())\n",
        "model.add(Dense(256 , activation ='relu'))\n",
        "model.add(BatchNormalization())\n",
        "model.add(Dropout(0.5))\n",
        "model.add(Dense(89, activation = \"softmax\"))"
      ],
      "execution_count": null,
      "outputs": []
    },
    {
      "cell_type": "code",
      "metadata": {
        "id": "SCHyIJjK7OFG"
      },
      "source": [
        "optimizer = RMSprop(learning_rate=0.01, rho=0.9, epsilon=1e-08, decay=0.0)\n",
        "model.compile(optimizer = optimizer , loss = \"categorical_crossentropy\", metrics=[\"accuracy\"])\n",
        "filepath=\"vgg.h5\"\n",
        "learning_rate = ReduceLROnPlateau(monitor='val_loss', \n",
        "                                  mode='min',\n",
        "                                  patience=2, \n",
        "                                  verbose=1, \n",
        "                                  factor=0.5, \n",
        "                                  min_lr=0.00001)\n",
        "epochs = 30\n",
        "batch_size = 128"
      ],
      "execution_count": null,
      "outputs": []
    },
    {
      "cell_type": "code",
      "metadata": {
        "id": "DqnugvLBopT1"
      },
      "source": [
        "model.compile(optimizer = 'adam' , loss = \"categorical_crossentropy\", metrics=[\"accuracy\"])"
      ],
      "execution_count": null,
      "outputs": []
    },
    {
      "cell_type": "code",
      "metadata": {
        "id": "_NY0GJR7mNqz"
      },
      "source": [
        "from keras.utils.vis_utils import plot_model"
      ],
      "execution_count": null,
      "outputs": []
    },
    {
      "cell_type": "code",
      "metadata": {
        "id": "CtYEH82GpMyZ"
      },
      "source": [
        "from keras.callbacks import EarlyStopping,ModelCheckpoint"
      ],
      "execution_count": null,
      "outputs": []
    },
    {
      "cell_type": "code",
      "metadata": {
        "id": "5j0QHKKPpPGx"
      },
      "source": [
        "filepath = \"vgg.h5\"\n",
        "best_model = ModelCheckpoint(filepath,\n",
        "                             monitor='val_loss',\n",
        "                             mode='min',\n",
        "                             save_best_only=True,\n",
        "                             verbose=1)"
      ],
      "execution_count": null,
      "outputs": []
    },
    {
      "cell_type": "code",
      "metadata": {
        "colab": {
          "base_uri": "https://localhost:8080/"
        },
        "id": "x8x7iJDu7Vgy",
        "outputId": "6738ff6f-3294-4596-90bd-d44a428f9049"
      },
      "source": [
        "model.summary()"
      ],
      "execution_count": null,
      "outputs": [
        {
          "output_type": "stream",
          "text": [
            "Model: \"sequential\"\n",
            "_________________________________________________________________\n",
            "Layer (type)                 Output Shape              Param #   \n",
            "=================================================================\n",
            "conv2d (Conv2D)              (None, 28, 28, 64)        640       \n",
            "_________________________________________________________________\n",
            "conv2d_1 (Conv2D)            (None, 28, 28, 64)        36928     \n",
            "_________________________________________________________________\n",
            "batch_normalization (BatchNo (None, 28, 28, 64)        256       \n",
            "_________________________________________________________________\n",
            "max_pooling2d (MaxPooling2D) (None, 14, 14, 64)        0         \n",
            "_________________________________________________________________\n",
            "dropout (Dropout)            (None, 14, 14, 64)        0         \n",
            "_________________________________________________________________\n",
            "conv2d_2 (Conv2D)            (None, 14, 14, 128)       73856     \n",
            "_________________________________________________________________\n",
            "conv2d_3 (Conv2D)            (None, 14, 14, 128)       147584    \n",
            "_________________________________________________________________\n",
            "batch_normalization_1 (Batch (None, 14, 14, 128)       512       \n",
            "_________________________________________________________________\n",
            "max_pooling2d_1 (MaxPooling2 (None, 7, 7, 128)         0         \n",
            "_________________________________________________________________\n",
            "dropout_1 (Dropout)          (None, 7, 7, 128)         0         \n",
            "_________________________________________________________________\n",
            "conv2d_4 (Conv2D)            (None, 7, 7, 256)         295168    \n",
            "_________________________________________________________________\n",
            "conv2d_5 (Conv2D)            (None, 7, 7, 256)         590080    \n",
            "_________________________________________________________________\n",
            "batch_normalization_2 (Batch (None, 7, 7, 256)         1024      \n",
            "_________________________________________________________________\n",
            "max_pooling2d_2 (MaxPooling2 (None, 7, 3, 256)         0         \n",
            "_________________________________________________________________\n",
            "dropout_2 (Dropout)          (None, 7, 3, 256)         0         \n",
            "_________________________________________________________________\n",
            "time_distributed (TimeDistri (None, 7, 768)            0         \n",
            "_________________________________________________________________\n",
            "bidirectional (Bidirectional (None, 7, 64)             153984    \n",
            "_________________________________________________________________\n",
            "flatten_1 (Flatten)          (None, 448)               0         \n",
            "_________________________________________________________________\n",
            "dense (Dense)                (None, 256)               114944    \n",
            "_________________________________________________________________\n",
            "batch_normalization_3 (Batch (None, 256)               1024      \n",
            "_________________________________________________________________\n",
            "dropout_3 (Dropout)          (None, 256)               0         \n",
            "_________________________________________________________________\n",
            "dense_1 (Dense)              (None, 89)                22873     \n",
            "=================================================================\n",
            "Total params: 1,438,873\n",
            "Trainable params: 1,437,465\n",
            "Non-trainable params: 1,408\n",
            "_________________________________________________________________\n"
          ],
          "name": "stdout"
        }
      ]
    },
    {
      "cell_type": "code",
      "metadata": {
        "colab": {
          "base_uri": "https://localhost:8080/"
        },
        "id": "iK67G082bf4v",
        "outputId": "28bbdef8-8adb-4f37-fd5c-00e76bf45575"
      },
      "source": [
        "batch_size=64\n",
        "history = model.fit(X_trainz,y_trainz, batch_size=batch_size,\n",
        "                              epochs = 10, validation_data = (X_val,y_val),\n",
        "                              verbose = 2, steps_per_epoch=X_trainz.shape[0] // batch_size\n",
        "                              , callbacks=[best_model])"
      ],
      "execution_count": null,
      "outputs": [
        {
          "output_type": "stream",
          "text": [
            "Epoch 1/10\n",
            "1879/1879 - 2300s - loss: 2.0133 - accuracy: 0.5006 - val_loss: 0.4341 - val_accuracy: 0.8670\n",
            "\n",
            "Epoch 00001: val_loss improved from inf to 0.43406, saving model to vgg.h5\n",
            "Epoch 2/10\n",
            "1879/1879 - 2288s - loss: 0.4163 - accuracy: 0.8778 - val_loss: 0.3079 - val_accuracy: 0.9101\n",
            "\n",
            "Epoch 00002: val_loss improved from 0.43406 to 0.30793, saving model to vgg.h5\n",
            "Epoch 3/10\n",
            "1879/1879 - 2296s - loss: 0.2873 - accuracy: 0.9157 - val_loss: 0.2206 - val_accuracy: 0.9392\n",
            "\n",
            "Epoch 00003: val_loss improved from 0.30793 to 0.22061, saving model to vgg.h5\n",
            "Epoch 4/10\n",
            "1879/1879 - 2264s - loss: 0.2272 - accuracy: 0.9331 - val_loss: 0.2449 - val_accuracy: 0.9373\n",
            "\n",
            "Epoch 00004: val_loss did not improve from 0.22061\n",
            "Epoch 5/10\n",
            "1879/1879 - 2307s - loss: 0.1985 - accuracy: 0.9422 - val_loss: 0.1463 - val_accuracy: 0.9618\n",
            "\n",
            "Epoch 00005: val_loss improved from 0.22061 to 0.14633, saving model to vgg.h5\n",
            "Epoch 6/10\n",
            "1879/1879 - 2321s - loss: 0.1654 - accuracy: 0.9512 - val_loss: 0.1547 - val_accuracy: 0.9622\n",
            "\n",
            "Epoch 00006: val_loss did not improve from 0.14633\n",
            "Epoch 7/10\n",
            "1879/1879 - 2284s - loss: 0.1438 - accuracy: 0.9577 - val_loss: 0.1604 - val_accuracy: 0.9604\n",
            "\n",
            "Epoch 00007: val_loss did not improve from 0.14633\n",
            "Epoch 8/10\n",
            "1879/1879 - 2414s - loss: 0.1307 - accuracy: 0.9618 - val_loss: 0.1722 - val_accuracy: 0.9595\n",
            "\n",
            "Epoch 00008: val_loss did not improve from 0.14633\n",
            "Epoch 9/10\n",
            "1879/1879 - 2465s - loss: 0.1158 - accuracy: 0.9658 - val_loss: 0.1233 - val_accuracy: 0.9723\n",
            "\n",
            "Epoch 00009: val_loss improved from 0.14633 to 0.12328, saving model to vgg.h5\n",
            "Epoch 10/10\n",
            "1879/1879 - 2316s - loss: 0.1081 - accuracy: 0.9681 - val_loss: 0.1283 - val_accuracy: 0.9716\n",
            "\n",
            "Epoch 00010: val_loss did not improve from 0.12328\n"
          ],
          "name": "stdout"
        }
      ]
    },
    {
      "cell_type": "code",
      "metadata": {
        "colab": {
          "base_uri": "https://localhost:8080/"
        },
        "id": "e8jynPE5iC5N",
        "outputId": "6db9ba0a-71b5-4c45-cfaa-10093b432f1f"
      },
      "source": [
        "batch_size=64\n",
        "history1 = model.fit(X_trainz,y_trainz, batch_size=batch_size,\n",
        "                              epochs = 1, validation_data = (X_val,y_val),\n",
        "                              verbose = 2, steps_per_epoch=X_trainz.shape[0] // batch_size\n",
        "                              , callbacks=[best_model])"
      ],
      "execution_count": null,
      "outputs": [
        {
          "output_type": "stream",
          "text": [
            "1879/1879 - 2264s - loss: 0.0993 - accuracy: 0.9715 - val_loss: 0.1290 - val_accuracy: 0.9726\n",
            "\n",
            "Epoch 00001: val_loss did not improve from 0.12328\n"
          ],
          "name": "stdout"
        }
      ]
    },
    {
      "cell_type": "code",
      "metadata": {
        "id": "WzBG0PJCvwPj"
      },
      "source": [
        "from tensorflow import keras\n",
        "new_model= keras.models.load_model('vgg.h5')"
      ],
      "execution_count": null,
      "outputs": []
    },
    {
      "cell_type": "code",
      "metadata": {
        "colab": {
          "base_uri": "https://localhost:8080/",
          "height": 621
        },
        "id": "w8uw1uD07gYm",
        "outputId": "8aabba43-c41f-4bf3-d61c-202f4b95b0d6"
      },
      "source": [
        "epochs = [i for i in range(10)]\n",
        "fig , ax = plt.subplots(1,2)\n",
        "train_acc = history.history['accuracy']\n",
        "train_loss = history.history['loss']\n",
        "val_acc = history.history['val_accuracy']\n",
        "val_loss = history.history['val_loss']\n",
        "fig.set_size_inches(20,10)\n",
        "\n",
        "ax[0].plot(epochs , train_acc , 'go-' , label = 'Training Accuracy')\n",
        "ax[0].plot(epochs , val_acc , 'ro-' , label = 'Validation Accuracy')\n",
        "ax[0].set_title('Training & Validation Accuracy')\n",
        "ax[0].legend()\n",
        "ax[0].set_xlabel(\"Epochs\")\n",
        "ax[0].set_ylabel(\"Accuracy\")\n",
        "\n",
        "ax[1].plot(epochs , train_loss , 'go-' , label = 'Training Loss')\n",
        "ax[1].plot(epochs , val_loss , 'ro-' , label = 'Validation Loss')\n",
        "ax[1].set_title('Training & Validation Loss')\n",
        "ax[1].legend()\n",
        "ax[1].set_xlabel(\"Epochs\")\n",
        "ax[1].set_ylabel(\"Loss\")\n",
        "plt.savefig('yeah.png')\n",
        "plt.show()"
      ],
      "execution_count": null,
      "outputs": [
        {
          "output_type": "display_data",
          "data": {
            "image/png": "[encoded data removed]",
            "text/plain": [
              "<Figure size 1440x720 with 2 Axes>"
            ]
          },
          "metadata": {
            "tags": [],
            "needs_background": "light"
          }
        }
      ]
    },
    {
      "cell_type": "code",
      "metadata": {
        "id": "WPoGOOjN9CyO"
      },
      "source": [
        "def display_random_image(class_names, images, labels, desired_labels):\n",
        "    \"\"\"\n",
        "        Display a random image from the images array and its correspond label from the labels array.\n",
        "    \"\"\"\n",
        "    \n",
        "    index = np.random.randint(images.shape[0])\n",
        "    plt.figure()\n",
        "    plt.imshow((tf.squeeze(images[index])),cmap='gray')\n",
        "    plt.xticks([])\n",
        "    plt.yticks([])\n",
        "    plt.grid(False)\n",
        "    very_desired_labels = np.argmax(desired_labels[index], axis=None, out=None)\n",
        "    plt.title('Predicted outcome : '+ class_names[labels[index]] + '  Desired outcome : '+ categories[very_desired_labels] )\n",
        "    plt.show()"
      ],
      "execution_count": null,
      "outputs": []
    },
    {
      "cell_type": "code",
      "metadata": {
        "colab": {
          "base_uri": "https://localhost:8080/"
        },
        "id": "CvwYZSBz8Moh",
        "outputId": "36dae5ac-78bb-4b7f-f139-f3d6328c20ca"
      },
      "source": [
        "test_loss = new_model.evaluate(X_test, y_test)"
      ],
      "execution_count": null,
      "outputs": [
        {
          "output_type": "stream",
          "text": [
            "314/314 [==============================] - 46s 142ms/step - loss: 0.1163 - accuracy: 0.9720\n"
          ],
          "name": "stdout"
        }
      ]
    },
    {
      "cell_type": "code",
      "metadata": {
        "colab": {
          "base_uri": "https://localhost:8080/",
          "height": 1000
        },
        "id": "HLE0imfv8NgL",
        "outputId": "6081d9a5-4f15-414d-b462-d356de988345"
      },
      "source": [
        "import seaborn as sns\n",
        "import matplotlib.pyplot as plt\n",
        "\n",
        "### Confusion Matrix\n",
        "from sklearn.metrics import confusion_matrix\n",
        "predictions = new_model.predict(X_test, steps=len(X_val), verbose=0)\n",
        "#y_pred=model.predict(x_test)\n",
        "#y_pred = np.round(y_pred)\n",
        "y_pred = np.argmax(predictions, axis=-1)\n",
        "\n",
        "y_true=np.argmax(y_test, axis=-1)\n",
        "\n",
        "cm = confusion_matrix(y_true, y_pred)\n",
        "\n",
        "## Get Class Labels\n",
        "\n",
        "\n",
        "# Plot confusion matrix in a beautiful manner\n",
        "fig = plt.figure(figsize=(24, 24))\n",
        "ax= plt.subplot()\n",
        "sns.heatmap(cm, annot=True, ax = ax, fmt = 'g'); #annot=True to annotate cells\n",
        "# labels, title and ticks\n",
        "ax.set_xlabel('Predicted', fontsize=20)\n",
        "ax.xaxis.set_label_position('bottom')\n",
        "plt.xticks(rotation=90)\n",
        "ax.xaxis.set_ticklabels(categories, fontsize = 10)\n",
        "ax.xaxis.tick_bottom()\n",
        "\n",
        "ax.set_ylabel('True', fontsize=20)\n",
        "ax.yaxis.set_ticklabels(categories, fontsize = 10)\n",
        "plt.yticks(rotation=0)\n",
        "\n",
        "plt.title('Refined Confusion Matrix', fontsize=20)\n",
        "\n",
        "plt.savefig('ConMat24.png')\n",
        "plt.show()"
      ],
      "execution_count": null,
      "outputs": [
        {
          "output_type": "display_data",
          "data": {
            "image/png": "[encoded data removed]",
            "text/plain": [
              "<Figure size 1728x1728 with 2 Axes>"
            ]
          },
          "metadata": {
            "tags": [],
            "needs_background": "light"
          }
        }
      ]
    },
    {
      "cell_type": "code",
      "metadata": {
        "id": "pG6djcEW-y8s"
      },
      "source": [
        "from sklearn.metrics import accuracy_score, f1_score, precision_score, recall_score, classification_report, confusion_matrix"
      ],
      "execution_count": null,
      "outputs": []
    },
    {
      "cell_type": "code",
      "metadata": {
        "colab": {
          "base_uri": "https://localhost:8080/"
        },
        "id": "w73zGcD2_kSP",
        "outputId": "a3855787-3e15-4859-ba3c-c77f91e8f7ac"
      },
      "source": [
        "print(classification_report(y_true, y_pred))"
      ],
      "execution_count": null,
      "outputs": [
        {
          "output_type": "stream",
          "text": [
            "              precision    recall  f1-score   support\n",
            "\n",
            "           0       1.00      0.95      0.98        66\n",
            "           1       0.91      0.91      0.91       117\n",
            "           2       0.99      0.98      0.99       122\n",
            "           3       0.95      0.99      0.97       150\n",
            "           4       0.98      0.95      0.96       136\n",
            "           5       0.99      1.00      1.00       138\n",
            "           6       0.98      0.92      0.95       130\n",
            "           7       0.97      0.98      0.97       138\n",
            "           8       0.98      0.96      0.97        55\n",
            "           9       1.00      0.96      0.98        70\n",
            "          10       0.92      0.99      0.95        67\n",
            "          11       0.97      0.96      0.97        74\n",
            "          12       0.96      0.96      0.96        80\n",
            "          13       0.94      0.94      0.94        53\n",
            "          14       0.99      1.00      0.99        92\n",
            "          15       0.99      0.99      0.99       147\n",
            "          16       0.96      0.97      0.97        78\n",
            "          17       0.98      1.00      0.99        54\n",
            "          18       1.00      0.86      0.92        71\n",
            "          19       0.98      0.94      0.96        62\n",
            "          20       1.00      0.88      0.94        91\n",
            "          21       0.88      0.99      0.93        89\n",
            "          22       0.96      0.99      0.98       106\n",
            "          23       0.86      0.98      0.91        86\n",
            "          24       0.97      0.99      0.98        74\n",
            "          25       0.97      0.98      0.98       146\n",
            "          26       0.94      0.98      0.96        91\n",
            "          27       0.97      0.99      0.98       112\n",
            "          28       0.98      0.97      0.98        66\n",
            "          29       0.97      0.99      0.98       179\n",
            "          30       1.00      0.98      0.99       100\n",
            "          31       0.96      0.94      0.95        82\n",
            "          32       0.99      1.00      0.99        82\n",
            "          33       0.92      0.96      0.94        75\n",
            "          34       0.95      0.98      0.96        98\n",
            "          35       0.98      0.98      0.98        94\n",
            "          36       0.97      0.97      0.97        90\n",
            "          37       0.99      1.00      0.99        85\n",
            "          38       0.98      1.00      0.99        81\n",
            "          39       0.96      1.00      0.98        92\n",
            "          40       0.97      0.95      0.96       155\n",
            "          41       0.99      0.96      0.98       184\n",
            "          42       0.98      0.99      0.98        86\n",
            "          43       0.98      0.96      0.97       106\n",
            "          44       1.00      0.97      0.98        95\n",
            "          45       0.98      0.98      0.98       122\n",
            "          46       1.00      0.98      0.99       125\n",
            "          47       0.96      0.99      0.97        87\n",
            "          48       0.96      0.96      0.96       106\n",
            "          49       0.97      0.93      0.95       100\n",
            "          50       0.98      0.99      0.98        86\n",
            "          51       0.96      0.98      0.97       156\n",
            "          52       0.97      0.99      0.98       165\n",
            "          53       0.99      1.00      0.99       146\n",
            "          54       0.94      0.98      0.96        95\n",
            "          55       0.98      0.97      0.97        86\n",
            "          56       0.98      0.98      0.98        83\n",
            "          57       0.97      0.98      0.97       134\n",
            "          58       0.98      0.98      0.98       105\n",
            "          59       0.97      0.97      0.97       147\n",
            "          60       0.97      0.95      0.96       115\n",
            "          61       0.97      0.90      0.93       106\n",
            "          62       0.99      0.96      0.97       163\n",
            "          63       0.98      0.96      0.97       142\n",
            "          64       0.94      0.98      0.96       100\n",
            "          65       0.99      0.96      0.98       102\n",
            "          66       0.97      0.97      0.97        88\n",
            "          67       0.96      0.98      0.97       111\n",
            "          68       0.97      1.00      0.98        90\n",
            "          69       0.99      1.00      1.00       132\n",
            "          70       0.98      0.97      0.97       148\n",
            "          71       0.97      0.97      0.97       200\n",
            "          72       0.97      0.97      0.97       117\n",
            "          73       0.96      0.98      0.97       259\n",
            "          74       0.97      0.99      0.98       124\n",
            "          75       0.99      0.94      0.96       144\n",
            "          76       0.99      0.99      0.99       149\n",
            "          77       1.00      0.98      0.99       120\n",
            "          78       1.00      0.97      0.98        95\n",
            "          79       0.99      0.99      0.99        76\n",
            "          80       0.99      1.00      0.99        81\n",
            "          81       0.98      0.99      0.98       282\n",
            "          82       0.95      1.00      0.97       170\n",
            "          83       0.99      0.95      0.97       240\n",
            "          84       0.94      1.00      0.97        76\n",
            "          85       1.00      0.98      0.99        96\n",
            "          86       0.97      0.95      0.96       155\n",
            "          87       1.00      0.97      0.98        61\n",
            "          88       0.99      0.95      0.97        93\n",
            "\n",
            "    accuracy                           0.97     10023\n",
            "   macro avg       0.97      0.97      0.97     10023\n",
            "weighted avg       0.97      0.97      0.97     10023\n",
            "\n"
          ],
          "name": "stdout"
        }
      ]
    },
    {
      "cell_type": "code",
      "metadata": {
        "colab": {
          "base_uri": "https://localhost:8080/",
          "height": 770
        },
        "id": "qw20GBMkACbX",
        "outputId": "ac076d72-cd19-410c-eb05-2afad5ec5237"
      },
      "source": [
        "Y_pred = new_model.predict(X_test)\n",
        "# Convert predictions classes to one hot vectors \n",
        "Y_pred_classes = np.argmax(Y_pred,axis = 1) \n",
        "# Convert validation observations to one hot vectors\n",
        "Y_true = np.argmax(y_val,axis = 1) \n",
        "# compute the confusion matrix\n",
        "\n",
        "def plot_confusion_matrix(cm, classes,\n",
        "                          normalize=False,\n",
        "                          title='Confusion matrix',\n",
        "                          cmap=plt.cm.Blues):\n",
        "    \"\"\"\n",
        "    This function prints and plots the confusion matrix.\n",
        "    Normalization can be applied by setting `normalize=True`.\n",
        "    \"\"\"\n",
        "    plt.imshow(cm, interpolation='nearest', cmap=cmap)\n",
        "    plt.title(title)\n",
        "    plt.colorbar()\n",
        "    tick_marks = np.arange(len(classes))\n",
        "    plt.xticks(tick_marks, classes, rotation=45)\n",
        "    plt.yticks(tick_marks, classes)\n",
        "\n",
        "    if normalize:\n",
        "        cm = cm.astype('float') / cm.sum(axis=1)[:, np.newaxis]\n",
        "\n",
        "    thresh = cm.max() / 2.\n",
        "    for i, j in itertools.product(range(cm.shape[0]), range(cm.shape[1])):\n",
        "        plt.text(j, i, cm[i, j],\n",
        "                 horizontalalignment=\"center\",\n",
        "                 color=\"white\" if cm[i, j] > thresh else \"black\")\n",
        "\n",
        "    plt.tight_layout()\n",
        "    plt.ylabel('True label')\n",
        "    plt.xlabel('Predicted label')\n",
        "\n",
        "# Display some error results \n",
        "\n",
        "# Errors are difference between predicted labels and true labels\n",
        "errors = (Y_pred_classes - Y_true != 0)\n",
        "\n",
        "Y_pred_classes_errors = Y_pred_classes[errors]\n",
        "Y_pred_errors = Y_pred[errors]\n",
        "Y_true_errors = Y_true[errors]\n",
        "X_val_errors = X_val[errors]\n",
        "\n",
        "def display_errors(errors_index,img_errors,pred_errors, obs_errors):\n",
        "    \"\"\" This function shows 6 images with their predicted and real labels\"\"\"\n",
        "    n = 0\n",
        "    nrows = 2\n",
        "    ncols = 3\n",
        "    fig, ax = plt.subplots(nrows,ncols,sharex=True,sharey=True,figsize=(15,15))\n",
        "    for row in range(nrows):\n",
        "        for col in range(ncols):\n",
        "            error = errors_index[n]\n",
        "            ax[row,col].imshow((img_errors[error]).reshape((28,28)),cmap='gray')\n",
        "            ax[row,col].set_title(\"Predicted label :{}\\nTrue label :{}\".format(categories[pred_errors[error]],categories[obs_errors[error]]))\n",
        "            n += 1\n",
        "\n",
        "# Probabilities of the wrong predicted numbers\n",
        "Y_pred_errors_prob = np.max(Y_pred_errors,axis = 1)\n",
        "\n",
        "# Predicted probabilities of the true values in the error set\n",
        "true_prob_errors = np.diagonal(np.take(Y_pred_errors, Y_true_errors, axis=1))\n",
        "\n",
        "# Difference between the probability of the predicted label and the true label\n",
        "delta_pred_true_errors = Y_pred_errors_prob - true_prob_errors\n",
        "\n",
        "# Sorted list of the delta prob errors\n",
        "sorted_dela_errors = np.argsort(delta_pred_true_errors)\n",
        "\n",
        "# Top 6 errors \n",
        "most_important_errors = sorted_dela_errors[-6:]\n",
        "\n",
        "# Show the top 6 errors\n",
        "display_errors(most_important_errors, X_val_errors, Y_pred_classes_errors, Y_true_errors)"
      ],
      "execution_count": null,
      "outputs": [
        {
          "output_type": "display_data",
          "data": {
            "image/png": "[encoded data removed]",
            "text/plain": [
              "<Figure size 1080x1080 with 6 Axes>"
            ]
          },
          "metadata": {
            "tags": [],
            "needs_background": "light"
          }
        }
      ]
    },
    {
      "cell_type": "code",
      "metadata": {
        "colab": {
          "base_uri": "https://localhost:8080/",
          "height": 268
        },
        "id": "KHums1r0Wgig",
        "outputId": "0ae3b81d-6d62-47ae-87ff-c8bb8dc886fd"
      },
      "source": [
        "predictions = new_model.predict(X_test)     # Vector of probabilities\n",
        "pred_labels = np.argmax(predictions, axis = 1) # We take the highest probability\n",
        "display_random_image(categories, X_test, pred_labels, y_test)"
      ],
      "execution_count": null,
      "outputs": [
        {
          "output_type": "display_data",
          "data": {
            "image/png": "[encoded data removed]",
            "text/plain": [
              "<Figure size 432x288 with 1 Axes>"
            ]
          },
          "metadata": {
            "tags": []
          }
        }
      ]
    },
    {
      "cell_type": "code",
      "metadata": {
        "id": "c9Bls8Es3gnn",
        "colab": {
          "base_uri": "https://localhost:8080/",
          "height": 17
        },
        "outputId": "49e49561-e8de-4403-8a25-8fe0170459a9"
      },
      "source": [
        "model.save(\"vggz\" + \".h5\")\n",
        "from google.colab import files\n",
        "files.download('vgg.h5')"
      ],
      "execution_count": null,
      "outputs": [
        {
          "output_type": "display_data",
          "data": {
            "application/javascript": [
              "\n",
              "    async function download(id, filename, size) {\n",
              "      if (!google.colab.kernel.accessAllowed) {\n",
              "        return;\n",
              "      }\n",
              "      const div = document.createElement('div');\n",
              "      const label = document.createElement('label');\n",
              "      label.textContent = `Downloading \"${filename}\": `;\n",
              "      div.appendChild(label);\n",
              "      const progress = document.createElement('progress');\n",
              "      progress.max = size;\n",
              "      div.appendChild(progress);\n",
              "      document.body.appendChild(div);\n",
              "\n",
              "      const buffers = [];\n",
              "      let downloaded = 0;\n",
              "\n",
              "      const channel = await google.colab.kernel.comms.open(id);\n",
              "      // Send a message to notify the kernel that we're ready.\n",
              "      channel.send({})\n",
              "\n",
              "      for await (const message of channel.messages) {\n",
              "        // Send a message to notify the kernel that we're ready.\n",
              "        channel.send({})\n",
              "        if (message.buffers) {\n",
              "          for (const buffer of message.buffers) {\n",
              "            buffers.push(buffer);\n",
              "            downloaded += buffer.byteLength;\n",
              "            progress.value = downloaded;\n",
              "          }\n",
              "        }\n",
              "      }\n",
              "      const blob = new Blob(buffers, {type: 'application/binary'});\n",
              "      const a = document.createElement('a');\n",
              "      a.href = window.URL.createObjectURL(blob);\n",
              "      a.download = filename;\n",
              "      div.appendChild(a);\n",
              "      a.click();\n",
              "      div.remove();\n",
              "    }\n",
              "  "
            ],
            "text/plain": [
              "<IPython.core.display.Javascript object>"
            ]
          },
          "metadata": {
            "tags": []
          }
        },
        {
          "output_type": "display_data",
          "data": {
            "application/javascript": [
              "download(\"download_e27e84cd-d5df-4da7-be24-4398a69b693f\", \"vgg.h5\", 17400316)"
            ],
            "text/plain": [
              "<IPython.core.display.Javascript object>"
            ]
          },
          "metadata": {
            "tags": []
          }
        }
      ]
    },
    {
      "cell_type": "code",
      "metadata": {
        "colab": {
          "base_uri": "https://localhost:8080/",
          "height": 17
        },
        "id": "NU32abprh0fX",
        "outputId": "a030638a-68ae-4609-949d-f393328588ab"
      },
      "source": [
        "files.download('yeah.png')"
      ],
      "execution_count": null,
      "outputs": [
        {
          "output_type": "display_data",
          "data": {
            "application/javascript": [
              "\n",
              "    async function download(id, filename, size) {\n",
              "      if (!google.colab.kernel.accessAllowed) {\n",
              "        return;\n",
              "      }\n",
              "      const div = document.createElement('div');\n",
              "      const label = document.createElement('label');\n",
              "      label.textContent = `Downloading \"${filename}\": `;\n",
              "      div.appendChild(label);\n",
              "      const progress = document.createElement('progress');\n",
              "      progress.max = size;\n",
              "      div.appendChild(progress);\n",
              "      document.body.appendChild(div);\n",
              "\n",
              "      const buffers = [];\n",
              "      let downloaded = 0;\n",
              "\n",
              "      const channel = await google.colab.kernel.comms.open(id);\n",
              "      // Send a message to notify the kernel that we're ready.\n",
              "      channel.send({})\n",
              "\n",
              "      for await (const message of channel.messages) {\n",
              "        // Send a message to notify the kernel that we're ready.\n",
              "        channel.send({})\n",
              "        if (message.buffers) {\n",
              "          for (const buffer of message.buffers) {\n",
              "            buffers.push(buffer);\n",
              "            downloaded += buffer.byteLength;\n",
              "            progress.value = downloaded;\n",
              "          }\n",
              "        }\n",
              "      }\n",
              "      const blob = new Blob(buffers, {type: 'application/binary'});\n",
              "      const a = document.createElement('a');\n",
              "      a.href = window.URL.createObjectURL(blob);\n",
              "      a.download = filename;\n",
              "      div.appendChild(a);\n",
              "      a.click();\n",
              "      div.remove();\n",
              "    }\n",
              "  "
            ],
            "text/plain": [
              "<IPython.core.display.Javascript object>"
            ]
          },
          "metadata": {
            "tags": []
          }
        },
        {
          "output_type": "display_data",
          "data": {
            "application/javascript": [
              "download(\"download_509e2f90-ac11-4d9a-9b0c-a21c3a1db5cc\", \"yeah.png\", 46366)"
            ],
            "text/plain": [
              "<IPython.core.display.Javascript object>"
            ]
          },
          "metadata": {
            "tags": []
          }
        }
      ]
    }
  ]
}