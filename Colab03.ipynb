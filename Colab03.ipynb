{
  "nbformat": 4,
  "nbformat_minor": 0,
  "metadata": {
    "colab": {
      "name": "Colab03.ipynb",
      "provenance": [],
      "collapsed_sections": [],
      "authorship_tag": "ABX9TyNTUHmYxzKlDAhBHQl1bK7v",
      "include_colab_link": true
    },
    "kernelspec": {
      "name": "python3",
      "display_name": "Python 3"
    },
    "language_info": {
      "name": "python"
    }
  },
  "cells": [
    {
      "cell_type": "markdown",
      "metadata": {
        "id": "view-in-github",
        "colab_type": "text"
      },
      "source": [
        "<a href=\"https://colab.research.google.com/github/noeffortnomoney/CS114.L22.KHCL/blob/main/Colab03.ipynb\" target=\"_parent\"><img src=\"https://colab.research.google.com/assets/colab-badge.svg\" alt=\"Open In Colab\"/></a>"
      ]
    },
    {
      "cell_type": "markdown",
      "metadata": {
        "id": "MoaoxT-P6QMp"
      },
      "source": [
        "#Bài tập colab số 03. Dự đoán điểm cuối kỳ của sinh viên IT001 dựa trên kết quả thực hành Wecode"
      ]
    },
    {
      "cell_type": "markdown",
      "metadata": {
        "id": "2gt5TMWQkoBW"
      },
      "source": [
        "##Cài đặt thư viện"
      ]
    },
    {
      "cell_type": "code",
      "metadata": {
        "id": "TRYkGPGs7n0N"
      },
      "source": [
        "import pandas as pd\n",
        "import numpy as np\n",
        "import io\n",
        "import matplotlib.pyplot as plt\n",
        "import seaborn as sns"
      ],
      "execution_count": 2,
      "outputs": []
    },
    {
      "cell_type": "code",
      "metadata": {
        "colab": {
          "base_uri": "https://localhost:8080/"
        },
        "id": "aAA-bCkw7q9Q",
        "outputId": "e2df8de9-3d7a-409f-813b-76bb608f4aaa"
      },
      "source": [
        "from google.colab import drive\n",
        "drive.mount ('/content/drive')"
      ],
      "execution_count": 3,
      "outputs": [
        {
          "output_type": "stream",
          "text": [
            "Mounted at /content/drive\n"
          ],
          "name": "stdout"
        }
      ]
    },
    {
      "cell_type": "markdown",
      "metadata": {
        "id": "lhR6Bd49K_6D"
      },
      "source": [
        "##Wecode.csv"
      ]
    },
    {
      "cell_type": "code",
      "metadata": {
        "colab": {
          "base_uri": "https://localhost:8080/",
          "height": 589
        },
        "id": "gjaA3QG7KA-B",
        "outputId": "c2a2a005-bc78-436c-ec69-a736c7dd883d"
      },
      "source": [
        "df_wecode = pd.read_csv('/content/drive/MyDrive/wecode.csv')\n",
        "df_wecode"
      ],
      "execution_count": 4,
      "outputs": [
        {
          "output_type": "execute_result",
          "data": {
            "text/html": [
              "<div>\n",
              "<style scoped>\n",
              "    .dataframe tbody tr th:only-of-type {\n",
              "        vertical-align: middle;\n",
              "    }\n",
              "\n",
              "    .dataframe tbody tr th {\n",
              "        vertical-align: top;\n",
              "    }\n",
              "\n",
              "    .dataframe thead th {\n",
              "        text-align: right;\n",
              "    }\n",
              "</style>\n",
              "<table border=\"1\" class=\"dataframe\">\n",
              "  <thead>\n",
              "    <tr style=\"text-align: right;\">\n",
              "      <th></th>\n",
              "      <th>id</th>\n",
              "      <th>assignment_id</th>\n",
              "      <th>problem_id</th>\n",
              "      <th>user_id</th>\n",
              "      <th>is_final</th>\n",
              "      <th>status</th>\n",
              "      <th>pre_score</th>\n",
              "      <th>coefficient</th>\n",
              "      <th>file_name</th>\n",
              "      <th>language_id</th>\n",
              "      <th>created_at</th>\n",
              "      <th>updated_at</th>\n",
              "    </tr>\n",
              "  </thead>\n",
              "  <tbody>\n",
              "    <tr>\n",
              "      <th>0</th>\n",
              "      <td>4</td>\n",
              "      <td>0</td>\n",
              "      <td>3</td>\n",
              "      <td>4</td>\n",
              "      <td>1</td>\n",
              "      <td>SCORE</td>\n",
              "      <td>10000</td>\n",
              "      <td>100</td>\n",
              "      <td>solution-0</td>\n",
              "      <td>2</td>\n",
              "      <td>2020-10-30 10:58:11</td>\n",
              "      <td>2020-10-30 10:58:19</td>\n",
              "    </tr>\n",
              "    <tr>\n",
              "      <th>1</th>\n",
              "      <td>5</td>\n",
              "      <td>0</td>\n",
              "      <td>4</td>\n",
              "      <td>4</td>\n",
              "      <td>1</td>\n",
              "      <td>SCORE</td>\n",
              "      <td>10000</td>\n",
              "      <td>100</td>\n",
              "      <td>solution-1</td>\n",
              "      <td>2</td>\n",
              "      <td>2020-10-30 11:07:09</td>\n",
              "      <td>2020-10-30 11:07:17</td>\n",
              "    </tr>\n",
              "    <tr>\n",
              "      <th>2</th>\n",
              "      <td>6</td>\n",
              "      <td>0</td>\n",
              "      <td>5</td>\n",
              "      <td>4</td>\n",
              "      <td>0</td>\n",
              "      <td>Compilation Error</td>\n",
              "      <td>0</td>\n",
              "      <td>100</td>\n",
              "      <td>solution-2</td>\n",
              "      <td>2</td>\n",
              "      <td>2020-10-30 11:08:01</td>\n",
              "      <td>2020-10-30 11:23:36</td>\n",
              "    </tr>\n",
              "    <tr>\n",
              "      <th>3</th>\n",
              "      <td>7</td>\n",
              "      <td>0</td>\n",
              "      <td>5</td>\n",
              "      <td>4</td>\n",
              "      <td>0</td>\n",
              "      <td>Compilation Error</td>\n",
              "      <td>0</td>\n",
              "      <td>100</td>\n",
              "      <td>solution-3</td>\n",
              "      <td>2</td>\n",
              "      <td>2020-10-30 11:11:41</td>\n",
              "      <td>2020-10-30 11:11:42</td>\n",
              "    </tr>\n",
              "    <tr>\n",
              "      <th>4</th>\n",
              "      <td>8</td>\n",
              "      <td>0</td>\n",
              "      <td>5</td>\n",
              "      <td>4</td>\n",
              "      <td>0</td>\n",
              "      <td>Compilation Error</td>\n",
              "      <td>0</td>\n",
              "      <td>100</td>\n",
              "      <td>solution-4</td>\n",
              "      <td>2</td>\n",
              "      <td>2020-10-30 11:15:06</td>\n",
              "      <td>2020-10-30 11:15:07</td>\n",
              "    </tr>\n",
              "    <tr>\n",
              "      <th>...</th>\n",
              "      <td>...</td>\n",
              "      <td>...</td>\n",
              "      <td>...</td>\n",
              "      <td>...</td>\n",
              "      <td>...</td>\n",
              "      <td>...</td>\n",
              "      <td>...</td>\n",
              "      <td>...</td>\n",
              "      <td>...</td>\n",
              "      <td>...</td>\n",
              "      <td>...</td>\n",
              "      <td>...</td>\n",
              "    </tr>\n",
              "    <tr>\n",
              "      <th>264601</th>\n",
              "      <td>266667</td>\n",
              "      <td>0</td>\n",
              "      <td>25</td>\n",
              "      <td>1796</td>\n",
              "      <td>0</td>\n",
              "      <td>SCORE</td>\n",
              "      <td>0</td>\n",
              "      <td>100</td>\n",
              "      <td>solution-3977</td>\n",
              "      <td>4</td>\n",
              "      <td>2021-04-28 09:34:20</td>\n",
              "      <td>2021-04-28 09:34:27</td>\n",
              "    </tr>\n",
              "    <tr>\n",
              "      <th>264602</th>\n",
              "      <td>266668</td>\n",
              "      <td>0</td>\n",
              "      <td>25</td>\n",
              "      <td>1796</td>\n",
              "      <td>0</td>\n",
              "      <td>Compilation Error</td>\n",
              "      <td>0</td>\n",
              "      <td>100</td>\n",
              "      <td>solution-3978</td>\n",
              "      <td>2</td>\n",
              "      <td>2021-04-28 09:35:07</td>\n",
              "      <td>2021-04-28 09:35:08</td>\n",
              "    </tr>\n",
              "    <tr>\n",
              "      <th>264603</th>\n",
              "      <td>266669</td>\n",
              "      <td>0</td>\n",
              "      <td>25</td>\n",
              "      <td>1796</td>\n",
              "      <td>1</td>\n",
              "      <td>SCORE</td>\n",
              "      <td>10000</td>\n",
              "      <td>100</td>\n",
              "      <td>solution-3979</td>\n",
              "      <td>4</td>\n",
              "      <td>2021-04-28 09:35:15</td>\n",
              "      <td>2021-04-28 09:35:21</td>\n",
              "    </tr>\n",
              "    <tr>\n",
              "      <th>264604</th>\n",
              "      <td>266670</td>\n",
              "      <td>0</td>\n",
              "      <td>150</td>\n",
              "      <td>255</td>\n",
              "      <td>1</td>\n",
              "      <td>SCORE</td>\n",
              "      <td>6250</td>\n",
              "      <td>100</td>\n",
              "      <td>solution-3980</td>\n",
              "      <td>2</td>\n",
              "      <td>2021-05-11 01:34:57</td>\n",
              "      <td>2021-05-11 01:35:28</td>\n",
              "    </tr>\n",
              "    <tr>\n",
              "      <th>264605</th>\n",
              "      <td>266671</td>\n",
              "      <td>21</td>\n",
              "      <td>24</td>\n",
              "      <td>1568</td>\n",
              "      <td>0</td>\n",
              "      <td>SCORE</td>\n",
              "      <td>10000</td>\n",
              "      <td>100</td>\n",
              "      <td>solution-609</td>\n",
              "      <td>4</td>\n",
              "      <td>2021-05-13 17:17:17</td>\n",
              "      <td>2021-05-13 17:17:40</td>\n",
              "    </tr>\n",
              "  </tbody>\n",
              "</table>\n",
              "<p>264606 rows × 12 columns</p>\n",
              "</div>"
            ],
            "text/plain": [
              "            id  assignment_id  ...           created_at           updated_at\n",
              "0            4              0  ...  2020-10-30 10:58:11  2020-10-30 10:58:19\n",
              "1            5              0  ...  2020-10-30 11:07:09  2020-10-30 11:07:17\n",
              "2            6              0  ...  2020-10-30 11:08:01  2020-10-30 11:23:36\n",
              "3            7              0  ...  2020-10-30 11:11:41  2020-10-30 11:11:42\n",
              "4            8              0  ...  2020-10-30 11:15:06  2020-10-30 11:15:07\n",
              "...        ...            ...  ...                  ...                  ...\n",
              "264601  266667              0  ...  2021-04-28 09:34:20  2021-04-28 09:34:27\n",
              "264602  266668              0  ...  2021-04-28 09:35:07  2021-04-28 09:35:08\n",
              "264603  266669              0  ...  2021-04-28 09:35:15  2021-04-28 09:35:21\n",
              "264604  266670              0  ...  2021-05-11 01:34:57  2021-05-11 01:35:28\n",
              "264605  266671             21  ...  2021-05-13 17:17:17  2021-05-13 17:17:40\n",
              "\n",
              "[264606 rows x 12 columns]"
            ]
          },
          "metadata": {
            "tags": []
          },
          "execution_count": 4
        }
      ]
    },
    {
      "cell_type": "code",
      "metadata": {
        "colab": {
          "base_uri": "https://localhost:8080/"
        },
        "id": "zp2Hk9KPCfN5",
        "outputId": "c99dcb82-dee5-40d4-a0bf-ffcdcef1f366"
      },
      "source": [
        "df_wecode.shape\n",
        "print('Wecode variables: {}'.format(df_wecode.shape[1]))\n",
        "print('Wecode rows: {}'.format(df_wecode.shape[0]))\n",
        "df_wecode.dtypes\n",
        "df_wecode.info()"
      ],
      "execution_count": 5,
      "outputs": [
        {
          "output_type": "stream",
          "text": [
            "Wecode variables: 12\n",
            "Wecode rows: 264606\n",
            "<class 'pandas.core.frame.DataFrame'>\n",
            "RangeIndex: 264606 entries, 0 to 264605\n",
            "Data columns (total 12 columns):\n",
            " #   Column         Non-Null Count   Dtype \n",
            "---  ------         --------------   ----- \n",
            " 0   id             264606 non-null  int64 \n",
            " 1   assignment_id  264606 non-null  int64 \n",
            " 2   problem_id     264606 non-null  int64 \n",
            " 3   user_id        264606 non-null  int64 \n",
            " 4   is_final       264606 non-null  int64 \n",
            " 5   status         264605 non-null  object\n",
            " 6   pre_score      264606 non-null  int64 \n",
            " 7   coefficient    264606 non-null  object\n",
            " 8   file_name      264606 non-null  object\n",
            " 9   language_id    264606 non-null  int64 \n",
            " 10  created_at     264606 non-null  object\n",
            " 11  updated_at     264606 non-null  object\n",
            "dtypes: int64(7), object(5)\n",
            "memory usage: 24.2+ MB\n"
          ],
          "name": "stdout"
        }
      ]
    },
    {
      "cell_type": "code",
      "metadata": {
        "colab": {
          "base_uri": "https://localhost:8080/",
          "height": 266
        },
        "id": "u4EIA2zNRcI8",
        "outputId": "d2fe0760-8f31-41be-8a7b-610fe89734ff"
      },
      "source": [
        "df_wecode.describe().T"
      ],
      "execution_count": 6,
      "outputs": [
        {
          "output_type": "execute_result",
          "data": {
            "text/html": [
              "<div>\n",
              "<style scoped>\n",
              "    .dataframe tbody tr th:only-of-type {\n",
              "        vertical-align: middle;\n",
              "    }\n",
              "\n",
              "    .dataframe tbody tr th {\n",
              "        vertical-align: top;\n",
              "    }\n",
              "\n",
              "    .dataframe thead th {\n",
              "        text-align: right;\n",
              "    }\n",
              "</style>\n",
              "<table border=\"1\" class=\"dataframe\">\n",
              "  <thead>\n",
              "    <tr style=\"text-align: right;\">\n",
              "      <th></th>\n",
              "      <th>count</th>\n",
              "      <th>mean</th>\n",
              "      <th>std</th>\n",
              "      <th>min</th>\n",
              "      <th>25%</th>\n",
              "      <th>50%</th>\n",
              "      <th>75%</th>\n",
              "      <th>max</th>\n",
              "    </tr>\n",
              "  </thead>\n",
              "  <tbody>\n",
              "    <tr>\n",
              "      <th>id</th>\n",
              "      <td>264606.0</td>\n",
              "      <td>132535.074908</td>\n",
              "      <td>76605.695631</td>\n",
              "      <td>4.0</td>\n",
              "      <td>66262.25</td>\n",
              "      <td>132413.5</td>\n",
              "      <td>198566.75</td>\n",
              "      <td>266671.0</td>\n",
              "    </tr>\n",
              "    <tr>\n",
              "      <th>assignment_id</th>\n",
              "      <td>264606.0</td>\n",
              "      <td>186.732429</td>\n",
              "      <td>109.768713</td>\n",
              "      <td>0.0</td>\n",
              "      <td>90.00</td>\n",
              "      <td>178.0</td>\n",
              "      <td>286.00</td>\n",
              "      <td>384.0</td>\n",
              "    </tr>\n",
              "    <tr>\n",
              "      <th>problem_id</th>\n",
              "      <td>264606.0</td>\n",
              "      <td>257.958074</td>\n",
              "      <td>158.359795</td>\n",
              "      <td>1.0</td>\n",
              "      <td>123.00</td>\n",
              "      <td>298.0</td>\n",
              "      <td>348.00</td>\n",
              "      <td>698.0</td>\n",
              "    </tr>\n",
              "    <tr>\n",
              "      <th>user_id</th>\n",
              "      <td>264606.0</td>\n",
              "      <td>935.002147</td>\n",
              "      <td>514.246324</td>\n",
              "      <td>1.0</td>\n",
              "      <td>497.00</td>\n",
              "      <td>925.0</td>\n",
              "      <td>1393.00</td>\n",
              "      <td>1868.0</td>\n",
              "    </tr>\n",
              "    <tr>\n",
              "      <th>is_final</th>\n",
              "      <td>264606.0</td>\n",
              "      <td>0.387349</td>\n",
              "      <td>0.487146</td>\n",
              "      <td>0.0</td>\n",
              "      <td>0.00</td>\n",
              "      <td>0.0</td>\n",
              "      <td>1.00</td>\n",
              "      <td>1.0</td>\n",
              "    </tr>\n",
              "    <tr>\n",
              "      <th>pre_score</th>\n",
              "      <td>264606.0</td>\n",
              "      <td>5596.454559</td>\n",
              "      <td>4393.183730</td>\n",
              "      <td>0.0</td>\n",
              "      <td>0.00</td>\n",
              "      <td>7000.0</td>\n",
              "      <td>10000.00</td>\n",
              "      <td>10000.0</td>\n",
              "    </tr>\n",
              "    <tr>\n",
              "      <th>language_id</th>\n",
              "      <td>264606.0</td>\n",
              "      <td>2.000317</td>\n",
              "      <td>0.025195</td>\n",
              "      <td>2.0</td>\n",
              "      <td>2.00</td>\n",
              "      <td>2.0</td>\n",
              "      <td>2.00</td>\n",
              "      <td>4.0</td>\n",
              "    </tr>\n",
              "  </tbody>\n",
              "</table>\n",
              "</div>"
            ],
            "text/plain": [
              "                  count           mean  ...        75%       max\n",
              "id             264606.0  132535.074908  ...  198566.75  266671.0\n",
              "assignment_id  264606.0     186.732429  ...     286.00     384.0\n",
              "problem_id     264606.0     257.958074  ...     348.00     698.0\n",
              "user_id        264606.0     935.002147  ...    1393.00    1868.0\n",
              "is_final       264606.0       0.387349  ...       1.00       1.0\n",
              "pre_score      264606.0    5596.454559  ...   10000.00   10000.0\n",
              "language_id    264606.0       2.000317  ...       2.00       4.0\n",
              "\n",
              "[7 rows x 8 columns]"
            ]
          },
          "metadata": {
            "tags": []
          },
          "execution_count": 6
        }
      ]
    },
    {
      "cell_type": "code",
      "metadata": {
        "id": "7A_wDHYMDGVF",
        "colab": {
          "base_uri": "https://localhost:8080/",
          "height": 450
        },
        "outputId": "17d115d8-2994-4778-ca63-eaed5834131d"
      },
      "source": [
        "#Tổng số problem\n",
        "sub = pd.DataFrame(df_wecode[['user_id','assignment_id','problem_id','is_final','pre_score']])\n",
        "pl=pd.DataFrame(sub.groupby('assignment_id').problem_id.nunique())\n",
        "pl.columns=['total_problem']\n",
        "pl"
      ],
      "execution_count": 7,
      "outputs": [
        {
          "output_type": "execute_result",
          "data": {
            "text/html": [
              "<div>\n",
              "<style scoped>\n",
              "    .dataframe tbody tr th:only-of-type {\n",
              "        vertical-align: middle;\n",
              "    }\n",
              "\n",
              "    .dataframe tbody tr th {\n",
              "        vertical-align: top;\n",
              "    }\n",
              "\n",
              "    .dataframe thead th {\n",
              "        text-align: right;\n",
              "    }\n",
              "</style>\n",
              "<table border=\"1\" class=\"dataframe\">\n",
              "  <thead>\n",
              "    <tr style=\"text-align: right;\">\n",
              "      <th></th>\n",
              "      <th>total_problem</th>\n",
              "    </tr>\n",
              "    <tr>\n",
              "      <th>assignment_id</th>\n",
              "      <th></th>\n",
              "    </tr>\n",
              "  </thead>\n",
              "  <tbody>\n",
              "    <tr>\n",
              "      <th>0</th>\n",
              "      <td>352</td>\n",
              "    </tr>\n",
              "    <tr>\n",
              "      <th>5</th>\n",
              "      <td>4</td>\n",
              "    </tr>\n",
              "    <tr>\n",
              "      <th>7</th>\n",
              "      <td>10</td>\n",
              "    </tr>\n",
              "    <tr>\n",
              "      <th>8</th>\n",
              "      <td>8</td>\n",
              "    </tr>\n",
              "    <tr>\n",
              "      <th>10</th>\n",
              "      <td>7</td>\n",
              "    </tr>\n",
              "    <tr>\n",
              "      <th>...</th>\n",
              "      <td>...</td>\n",
              "    </tr>\n",
              "    <tr>\n",
              "      <th>376</th>\n",
              "      <td>10</td>\n",
              "    </tr>\n",
              "    <tr>\n",
              "      <th>377</th>\n",
              "      <td>7</td>\n",
              "    </tr>\n",
              "    <tr>\n",
              "      <th>381</th>\n",
              "      <td>4</td>\n",
              "    </tr>\n",
              "    <tr>\n",
              "      <th>383</th>\n",
              "      <td>47</td>\n",
              "    </tr>\n",
              "    <tr>\n",
              "      <th>384</th>\n",
              "      <td>4</td>\n",
              "    </tr>\n",
              "  </tbody>\n",
              "</table>\n",
              "<p>290 rows × 1 columns</p>\n",
              "</div>"
            ],
            "text/plain": [
              "               total_problem\n",
              "assignment_id               \n",
              "0                        352\n",
              "5                          4\n",
              "7                         10\n",
              "8                          8\n",
              "10                         7\n",
              "...                      ...\n",
              "376                       10\n",
              "377                        7\n",
              "381                        4\n",
              "383                       47\n",
              "384                        4\n",
              "\n",
              "[290 rows x 1 columns]"
            ]
          },
          "metadata": {
            "tags": []
          },
          "execution_count": 7
        }
      ]
    },
    {
      "cell_type": "code",
      "metadata": {
        "colab": {
          "base_uri": "https://localhost:8080/",
          "height": 450
        },
        "id": "3JreJr9CPD3M",
        "outputId": "4455469d-2f55-442c-b59a-b8d8b2522a6a"
      },
      "source": [
        "#Số problem thử\n",
        "pl_try = df_wecode.groupby(\"user_id\")[\"problem_id\"].agg(problem_try = \"nunique\")\n",
        "pl_try"
      ],
      "execution_count": 8,
      "outputs": [
        {
          "output_type": "execute_result",
          "data": {
            "text/html": [
              "<div>\n",
              "<style scoped>\n",
              "    .dataframe tbody tr th:only-of-type {\n",
              "        vertical-align: middle;\n",
              "    }\n",
              "\n",
              "    .dataframe tbody tr th {\n",
              "        vertical-align: top;\n",
              "    }\n",
              "\n",
              "    .dataframe thead th {\n",
              "        text-align: right;\n",
              "    }\n",
              "</style>\n",
              "<table border=\"1\" class=\"dataframe\">\n",
              "  <thead>\n",
              "    <tr style=\"text-align: right;\">\n",
              "      <th></th>\n",
              "      <th>problem_try</th>\n",
              "    </tr>\n",
              "    <tr>\n",
              "      <th>user_id</th>\n",
              "      <th></th>\n",
              "    </tr>\n",
              "  </thead>\n",
              "  <tbody>\n",
              "    <tr>\n",
              "      <th>1</th>\n",
              "      <td>2</td>\n",
              "    </tr>\n",
              "    <tr>\n",
              "      <th>4</th>\n",
              "      <td>41</td>\n",
              "    </tr>\n",
              "    <tr>\n",
              "      <th>5</th>\n",
              "      <td>5</td>\n",
              "    </tr>\n",
              "    <tr>\n",
              "      <th>6</th>\n",
              "      <td>88</td>\n",
              "    </tr>\n",
              "    <tr>\n",
              "      <th>7</th>\n",
              "      <td>2</td>\n",
              "    </tr>\n",
              "    <tr>\n",
              "      <th>...</th>\n",
              "      <td>...</td>\n",
              "    </tr>\n",
              "    <tr>\n",
              "      <th>1860</th>\n",
              "      <td>43</td>\n",
              "    </tr>\n",
              "    <tr>\n",
              "      <th>1862</th>\n",
              "      <td>6</td>\n",
              "    </tr>\n",
              "    <tr>\n",
              "      <th>1864</th>\n",
              "      <td>63</td>\n",
              "    </tr>\n",
              "    <tr>\n",
              "      <th>1865</th>\n",
              "      <td>17</td>\n",
              "    </tr>\n",
              "    <tr>\n",
              "      <th>1868</th>\n",
              "      <td>20</td>\n",
              "    </tr>\n",
              "  </tbody>\n",
              "</table>\n",
              "<p>1159 rows × 1 columns</p>\n",
              "</div>"
            ],
            "text/plain": [
              "         problem_try\n",
              "user_id             \n",
              "1                  2\n",
              "4                 41\n",
              "5                  5\n",
              "6                 88\n",
              "7                  2\n",
              "...              ...\n",
              "1860              43\n",
              "1862               6\n",
              "1864              63\n",
              "1865              17\n",
              "1868              20\n",
              "\n",
              "[1159 rows x 1 columns]"
            ]
          },
          "metadata": {
            "tags": []
          },
          "execution_count": 8
        }
      ]
    },
    {
      "cell_type": "code",
      "metadata": {
        "colab": {
          "base_uri": "https://localhost:8080/"
        },
        "id": "1shRF7POSnSJ",
        "outputId": "f5b67dfa-907f-48ee-cda7-882d897bdc75"
      },
      "source": [
        "#Số lần nộp bài\n",
        "submits = df_wecode.groupby(\"user_id\")[\"id\"].count()\n",
        "submits"
      ],
      "execution_count": 9,
      "outputs": [
        {
          "output_type": "execute_result",
          "data": {
            "text/plain": [
              "user_id\n",
              "1         2\n",
              "4        54\n",
              "5         6\n",
              "6       130\n",
              "7         5\n",
              "       ... \n",
              "1860     76\n",
              "1862     12\n",
              "1864    187\n",
              "1865     99\n",
              "1868     47\n",
              "Name: id, Length: 1159, dtype: int64"
            ]
          },
          "metadata": {
            "tags": []
          },
          "execution_count": 9
        }
      ]
    },
    {
      "cell_type": "code",
      "metadata": {
        "colab": {
          "base_uri": "https://localhost:8080/"
        },
        "id": "nWSSyZ9AGLie",
        "outputId": "bb5c487e-f0cf-4ee3-8789-9a1246b7698a"
      },
      "source": [
        "#Tổng số submit đúng\n",
        "submits_correct = df_wecode.groupby(\"user_id\")[\"id\"].count()\n",
        "submits_correct = pd.DataFrame(map(int, (df_wecode['pre_score'] == 10000) & (df_wecode['is_final'] == 1)))\n",
        "print(submits_correct)"
      ],
      "execution_count": 27,
      "outputs": [
        {
          "output_type": "stream",
          "text": [
            "        0\n",
            "0       1\n",
            "1       1\n",
            "2       0\n",
            "3       0\n",
            "4       0\n",
            "...    ..\n",
            "264601  0\n",
            "264602  0\n",
            "264603  1\n",
            "264604  0\n",
            "264605  0\n",
            "\n",
            "[264606 rows x 1 columns]\n"
          ],
          "name": "stdout"
        }
      ]
    },
    {
      "cell_type": "code",
      "metadata": {
        "colab": {
          "base_uri": "https://localhost:8080/"
        },
        "id": "dZk-Bo4yXoV3",
        "outputId": "c1129e3b-0ef0-49fa-f8a6-13171b29eda0"
      },
      "source": [
        "total_score = df_wecode[df_wecode['pre_score'] > 0].groupby('user_id')['pre_score'].sum().reset_index(name='total_score')\n",
        "print(total_score)"
      ],
      "execution_count": 10,
      "outputs": [
        {
          "output_type": "stream",
          "text": [
            "      user_id  total_score\n",
            "0           1        10000\n",
            "1           4       466000\n",
            "2           5        30000\n",
            "3           6       965637\n",
            "4           7        18843\n",
            "...       ...          ...\n",
            "1140     1860       405440\n",
            "1141     1862        40000\n",
            "1142     1864       563292\n",
            "1143     1865       189460\n",
            "1144     1868       390000\n",
            "\n",
            "[1145 rows x 2 columns]\n"
          ],
          "name": "stdout"
        }
      ]
    },
    {
      "cell_type": "code",
      "metadata": {
        "colab": {
          "base_uri": "https://localhost:8080/"
        },
        "id": "I_4wuzOjT9gO",
        "outputId": "65fea468-18e9-45a4-c188-223db0ec3502"
      },
      "source": [
        "#Tổng hợp dữ liệu thu thập được từ wecode.csv\n",
        "merge1 = pd.merge(sub, pl_try,\n",
        "                   on='user_id', \n",
        "                   how='inner')  \n",
        "merge2 = pd.merge(merge1, submits,\n",
        "                   on='user_id', \n",
        "                   how='inner')\n",
        "merge_wecode = pd.merge(merge2, total_score,\n",
        "                        on='user_id', \n",
        "                        how='inner')\n",
        "print(merge_wecode)"
      ],
      "execution_count": 11,
      "outputs": [
        {
          "output_type": "stream",
          "text": [
            "        user_id  assignment_id  problem_id  ...  problem_try  id  total_score\n",
            "0             4              0           3  ...           41  54       466000\n",
            "1             4              0           4  ...           41  54       466000\n",
            "2             4              0           5  ...           41  54       466000\n",
            "3             4              0           5  ...           41  54       466000\n",
            "4             4              0           5  ...           41  54       466000\n",
            "...         ...            ...         ...  ...          ...  ..          ...\n",
            "264485     1452            383         313  ...           45  63       460000\n",
            "264486     1452            383         318  ...           45  63       460000\n",
            "264487     1452            383         319  ...           45  63       460000\n",
            "264488     1452            383         317  ...           45  63       460000\n",
            "264489     1452            383         316  ...           45  63       460000\n",
            "\n",
            "[264490 rows x 8 columns]\n"
          ],
          "name": "stdout"
        }
      ]
    },
    {
      "cell_type": "code",
      "metadata": {
        "colab": {
          "base_uri": "https://localhost:8080/",
          "height": 450
        },
        "id": "cadyGB_qKZoX",
        "outputId": "92102f26-c7b0-48cd-9542-4ec16cabed35"
      },
      "source": [
        "new_data = pd.DataFrame(df_wecode['user_id'])\n",
        "new_data['Sum_Problems'] = pd.DataFrame(df_wecode['is_final'])\n",
        "new_data.insert(2,'Sum_Submits', 1)\n",
        "new_data['Sum_Correct_Submits'] = pd.DataFrame(map(int, (df_wecode['pre_score'] == 10000)))\n",
        "new_data['Sum_Correct_Problems'] = pd.DataFrame(map(int, (df_wecode['pre_score'] == 10000) & (df_wecode['is_final'] == 1)))\n",
        "new_data.columns = ['user_id', 'Total_Problems', 'Submits_Correct', 'Total_Submits', 'Problems_Correct']\n",
        "new_data = new_data.groupby(['user_id']).sum()\n",
        "new_data"
      ],
      "execution_count": 36,
      "outputs": [
        {
          "output_type": "execute_result",
          "data": {
            "text/html": [
              "<div>\n",
              "<style scoped>\n",
              "    .dataframe tbody tr th:only-of-type {\n",
              "        vertical-align: middle;\n",
              "    }\n",
              "\n",
              "    .dataframe tbody tr th {\n",
              "        vertical-align: top;\n",
              "    }\n",
              "\n",
              "    .dataframe thead th {\n",
              "        text-align: right;\n",
              "    }\n",
              "</style>\n",
              "<table border=\"1\" class=\"dataframe\">\n",
              "  <thead>\n",
              "    <tr style=\"text-align: right;\">\n",
              "      <th></th>\n",
              "      <th>Total_Problems</th>\n",
              "      <th>Submits_Correct</th>\n",
              "      <th>Total_Submits</th>\n",
              "      <th>Problems_Correct</th>\n",
              "    </tr>\n",
              "    <tr>\n",
              "      <th>user_id</th>\n",
              "      <th></th>\n",
              "      <th></th>\n",
              "      <th></th>\n",
              "      <th></th>\n",
              "    </tr>\n",
              "  </thead>\n",
              "  <tbody>\n",
              "    <tr>\n",
              "      <th>1</th>\n",
              "      <td>2</td>\n",
              "      <td>2</td>\n",
              "      <td>1</td>\n",
              "      <td>1</td>\n",
              "    </tr>\n",
              "    <tr>\n",
              "      <th>4</th>\n",
              "      <td>38</td>\n",
              "      <td>54</td>\n",
              "      <td>44</td>\n",
              "      <td>37</td>\n",
              "    </tr>\n",
              "    <tr>\n",
              "      <th>5</th>\n",
              "      <td>5</td>\n",
              "      <td>6</td>\n",
              "      <td>3</td>\n",
              "      <td>3</td>\n",
              "    </tr>\n",
              "    <tr>\n",
              "      <th>6</th>\n",
              "      <td>88</td>\n",
              "      <td>130</td>\n",
              "      <td>89</td>\n",
              "      <td>85</td>\n",
              "    </tr>\n",
              "    <tr>\n",
              "      <th>7</th>\n",
              "      <td>2</td>\n",
              "      <td>5</td>\n",
              "      <td>0</td>\n",
              "      <td>0</td>\n",
              "    </tr>\n",
              "    <tr>\n",
              "      <th>...</th>\n",
              "      <td>...</td>\n",
              "      <td>...</td>\n",
              "      <td>...</td>\n",
              "      <td>...</td>\n",
              "    </tr>\n",
              "    <tr>\n",
              "      <th>1860</th>\n",
              "      <td>48</td>\n",
              "      <td>76</td>\n",
              "      <td>29</td>\n",
              "      <td>28</td>\n",
              "    </tr>\n",
              "    <tr>\n",
              "      <th>1862</th>\n",
              "      <td>6</td>\n",
              "      <td>12</td>\n",
              "      <td>4</td>\n",
              "      <td>4</td>\n",
              "    </tr>\n",
              "    <tr>\n",
              "      <th>1864</th>\n",
              "      <td>63</td>\n",
              "      <td>187</td>\n",
              "      <td>30</td>\n",
              "      <td>28</td>\n",
              "    </tr>\n",
              "    <tr>\n",
              "      <th>1865</th>\n",
              "      <td>17</td>\n",
              "      <td>99</td>\n",
              "      <td>10</td>\n",
              "      <td>10</td>\n",
              "    </tr>\n",
              "    <tr>\n",
              "      <th>1868</th>\n",
              "      <td>27</td>\n",
              "      <td>47</td>\n",
              "      <td>38</td>\n",
              "      <td>27</td>\n",
              "    </tr>\n",
              "  </tbody>\n",
              "</table>\n",
              "<p>1159 rows × 4 columns</p>\n",
              "</div>"
            ],
            "text/plain": [
              "         Total_Problems  Submits_Correct  Total_Submits  Problems_Correct\n",
              "user_id                                                                  \n",
              "1                     2                2              1                 1\n",
              "4                    38               54             44                37\n",
              "5                     5                6              3                 3\n",
              "6                    88              130             89                85\n",
              "7                     2                5              0                 0\n",
              "...                 ...              ...            ...               ...\n",
              "1860                 48               76             29                28\n",
              "1862                  6               12              4                 4\n",
              "1864                 63              187             30                28\n",
              "1865                 17               99             10                10\n",
              "1868                 27               47             38                27\n",
              "\n",
              "[1159 rows x 4 columns]"
            ]
          },
          "metadata": {
            "tags": []
          },
          "execution_count": 36
        }
      ]
    },
    {
      "cell_type": "markdown",
      "metadata": {
        "id": "YbhEevgKbhcd"
      },
      "source": [
        "##Score_training.csv"
      ]
    },
    {
      "cell_type": "code",
      "metadata": {
        "colab": {
          "base_uri": "https://localhost:8080/",
          "height": 419
        },
        "id": "TvgGCgbBb_Ik",
        "outputId": "554f6fb5-1849-4cab-fd2c-41ac690fee92"
      },
      "source": [
        "df_score = pd.read_csv('/content/drive/MyDrive/score_training.csv')\n",
        "df_score = df_score.rename(columns={\"id\": \"user_id\", \"QT\": \"QT\",\"GK\":\"GK\",\"TH\":\"TH\",\"CK\":\"CK\",\"TBM\":\"TBM\",\"TBTL\":\"TBTL\"})\n",
        "df_score"
      ],
      "execution_count": 12,
      "outputs": [
        {
          "output_type": "execute_result",
          "data": {
            "text/html": [
              "<div>\n",
              "<style scoped>\n",
              "    .dataframe tbody tr th:only-of-type {\n",
              "        vertical-align: middle;\n",
              "    }\n",
              "\n",
              "    .dataframe tbody tr th {\n",
              "        vertical-align: top;\n",
              "    }\n",
              "\n",
              "    .dataframe thead th {\n",
              "        text-align: right;\n",
              "    }\n",
              "</style>\n",
              "<table border=\"1\" class=\"dataframe\">\n",
              "  <thead>\n",
              "    <tr style=\"text-align: right;\">\n",
              "      <th></th>\n",
              "      <th>user_id</th>\n",
              "      <th>QT</th>\n",
              "      <th>GK</th>\n",
              "      <th>TH</th>\n",
              "      <th>CK</th>\n",
              "      <th>TBM</th>\n",
              "      <th>TBTL</th>\n",
              "    </tr>\n",
              "  </thead>\n",
              "  <tbody>\n",
              "    <tr>\n",
              "      <th>0</th>\n",
              "      <td>22</td>\n",
              "      <td>10</td>\n",
              "      <td>9</td>\n",
              "      <td>8.5</td>\n",
              "      <td>8.5</td>\n",
              "      <td>8.8</td>\n",
              "      <td>8.52</td>\n",
              "    </tr>\n",
              "    <tr>\n",
              "      <th>1</th>\n",
              "      <td>24</td>\n",
              "      <td>10</td>\n",
              "      <td>8</td>\n",
              "      <td>10</td>\n",
              "      <td>9.5</td>\n",
              "      <td>9.4</td>\n",
              "      <td>8.41</td>\n",
              "    </tr>\n",
              "    <tr>\n",
              "      <th>2</th>\n",
              "      <td>27</td>\n",
              "      <td>10</td>\n",
              "      <td>10</td>\n",
              "      <td>10</td>\n",
              "      <td>10</td>\n",
              "      <td>10</td>\n",
              "      <td>8.67</td>\n",
              "    </tr>\n",
              "    <tr>\n",
              "      <th>3</th>\n",
              "      <td>28</td>\n",
              "      <td>10</td>\n",
              "      <td>9.5</td>\n",
              "      <td>7.5</td>\n",
              "      <td>9.5</td>\n",
              "      <td>9.2</td>\n",
              "      <td>7.39</td>\n",
              "    </tr>\n",
              "    <tr>\n",
              "      <th>4</th>\n",
              "      <td>29</td>\n",
              "      <td>10</td>\n",
              "      <td>9.5</td>\n",
              "      <td>5</td>\n",
              "      <td>8.5</td>\n",
              "      <td>8.2</td>\n",
              "      <td>8.05</td>\n",
              "    </tr>\n",
              "    <tr>\n",
              "      <th>...</th>\n",
              "      <td>...</td>\n",
              "      <td>...</td>\n",
              "      <td>...</td>\n",
              "      <td>...</td>\n",
              "      <td>...</td>\n",
              "      <td>...</td>\n",
              "      <td>...</td>\n",
              "    </tr>\n",
              "    <tr>\n",
              "      <th>970</th>\n",
              "      <td>1857</td>\n",
              "      <td>5</td>\n",
              "      <td>4.5</td>\n",
              "      <td>10</td>\n",
              "      <td>4</td>\n",
              "      <td>6</td>\n",
              "      <td>6.03</td>\n",
              "    </tr>\n",
              "    <tr>\n",
              "      <th>971</th>\n",
              "      <td>1859</td>\n",
              "      <td>8</td>\n",
              "      <td>5</td>\n",
              "      <td>10</td>\n",
              "      <td>1.5</td>\n",
              "      <td>5.4</td>\n",
              "      <td>5.06</td>\n",
              "    </tr>\n",
              "    <tr>\n",
              "      <th>972</th>\n",
              "      <td>1862</td>\n",
              "      <td>5</td>\n",
              "      <td>6.5</td>\n",
              "      <td>1</td>\n",
              "      <td>7.5</td>\n",
              "      <td>5.1</td>\n",
              "      <td>4.71</td>\n",
              "    </tr>\n",
              "    <tr>\n",
              "      <th>973</th>\n",
              "      <td>1865</td>\n",
              "      <td>6.5</td>\n",
              "      <td></td>\n",
              "      <td>3</td>\n",
              "      <td>7.5</td>\n",
              "      <td></td>\n",
              "      <td>6.89</td>\n",
              "    </tr>\n",
              "    <tr>\n",
              "      <th>974</th>\n",
              "      <td>1866</td>\n",
              "      <td>9</td>\n",
              "      <td>7.5</td>\n",
              "      <td>2</td>\n",
              "      <td>5</td>\n",
              "      <td>5</td>\n",
              "      <td>7.05</td>\n",
              "    </tr>\n",
              "  </tbody>\n",
              "</table>\n",
              "<p>975 rows × 7 columns</p>\n",
              "</div>"
            ],
            "text/plain": [
              "     user_id   QT   GK   TH   CK  TBM  TBTL\n",
              "0         22   10    9  8.5  8.5  8.8  8.52\n",
              "1         24   10    8   10  9.5  9.4  8.41\n",
              "2         27   10   10   10   10   10  8.67\n",
              "3         28   10  9.5  7.5  9.5  9.2  7.39\n",
              "4         29   10  9.5    5  8.5  8.2  8.05\n",
              "..       ...  ...  ...  ...  ...  ...   ...\n",
              "970     1857    5  4.5   10    4    6  6.03\n",
              "971     1859    8    5   10  1.5  5.4  5.06\n",
              "972     1862    5  6.5    1  7.5  5.1  4.71\n",
              "973     1865  6.5         3  7.5       6.89\n",
              "974     1866    9  7.5    2    5    5  7.05\n",
              "\n",
              "[975 rows x 7 columns]"
            ]
          },
          "metadata": {
            "tags": []
          },
          "execution_count": 12
        }
      ]
    },
    {
      "cell_type": "code",
      "metadata": {
        "colab": {
          "base_uri": "https://localhost:8080/"
        },
        "id": "7WVq6arTccNS",
        "outputId": "5ef75d84-d659-4127-b1c4-fe51953350a7"
      },
      "source": [
        "df_score.shape\n",
        "print('Wecode variables: {}'.format(df_score.shape[1]))\n",
        "print('Wecode rows: {}'.format(df_score.shape[0]))\n",
        "df_score.dtypes\n",
        "df_score.info()"
      ],
      "execution_count": 13,
      "outputs": [
        {
          "output_type": "stream",
          "text": [
            "Wecode variables: 7\n",
            "Wecode rows: 975\n",
            "<class 'pandas.core.frame.DataFrame'>\n",
            "RangeIndex: 975 entries, 0 to 974\n",
            "Data columns (total 7 columns):\n",
            " #   Column   Non-Null Count  Dtype \n",
            "---  ------   --------------  ----- \n",
            " 0   user_id  975 non-null    int64 \n",
            " 1   QT       973 non-null    object\n",
            " 2   GK       974 non-null    object\n",
            " 3   TH       974 non-null    object\n",
            " 4   CK       974 non-null    object\n",
            " 5   TBM      974 non-null    object\n",
            " 6   TBTL     974 non-null    object\n",
            "dtypes: int64(1), object(6)\n",
            "memory usage: 53.4+ KB\n"
          ],
          "name": "stdout"
        }
      ]
    },
    {
      "cell_type": "code",
      "metadata": {
        "colab": {
          "base_uri": "https://localhost:8080/",
          "height": 80
        },
        "id": "DcMj56u3cTMI",
        "outputId": "cb584ee2-abab-4a75-97d3-5b62768a3983"
      },
      "source": [
        "df_score.describe().T"
      ],
      "execution_count": 14,
      "outputs": [
        {
          "output_type": "execute_result",
          "data": {
            "text/html": [
              "<div>\n",
              "<style scoped>\n",
              "    .dataframe tbody tr th:only-of-type {\n",
              "        vertical-align: middle;\n",
              "    }\n",
              "\n",
              "    .dataframe tbody tr th {\n",
              "        vertical-align: top;\n",
              "    }\n",
              "\n",
              "    .dataframe thead th {\n",
              "        text-align: right;\n",
              "    }\n",
              "</style>\n",
              "<table border=\"1\" class=\"dataframe\">\n",
              "  <thead>\n",
              "    <tr style=\"text-align: right;\">\n",
              "      <th></th>\n",
              "      <th>count</th>\n",
              "      <th>mean</th>\n",
              "      <th>std</th>\n",
              "      <th>min</th>\n",
              "      <th>25%</th>\n",
              "      <th>50%</th>\n",
              "      <th>75%</th>\n",
              "      <th>max</th>\n",
              "    </tr>\n",
              "  </thead>\n",
              "  <tbody>\n",
              "    <tr>\n",
              "      <th>user_id</th>\n",
              "      <td>975.0</td>\n",
              "      <td>871.44</td>\n",
              "      <td>506.048802</td>\n",
              "      <td>22.0</td>\n",
              "      <td>435.5</td>\n",
              "      <td>851.0</td>\n",
              "      <td>1327.5</td>\n",
              "      <td>1866.0</td>\n",
              "    </tr>\n",
              "  </tbody>\n",
              "</table>\n",
              "</div>"
            ],
            "text/plain": [
              "         count    mean         std   min    25%    50%     75%     max\n",
              "user_id  975.0  871.44  506.048802  22.0  435.5  851.0  1327.5  1866.0"
            ]
          },
          "metadata": {
            "tags": []
          },
          "execution_count": 14
        }
      ]
    },
    {
      "cell_type": "code",
      "metadata": {
        "colab": {
          "base_uri": "https://localhost:8080/",
          "height": 419
        },
        "id": "TNJj_hv9coap",
        "outputId": "e7127286-0a4e-4eb4-8ea2-97cca9179e46"
      },
      "source": [
        "data_merge = pd.merge(merge_wecode,df_score,on='user_id',how='outer')\n",
        "data_merge"
      ],
      "execution_count": 63,
      "outputs": [
        {
          "output_type": "execute_result",
          "data": {
            "text/html": [
              "<div>\n",
              "<style scoped>\n",
              "    .dataframe tbody tr th:only-of-type {\n",
              "        vertical-align: middle;\n",
              "    }\n",
              "\n",
              "    .dataframe tbody tr th {\n",
              "        vertical-align: top;\n",
              "    }\n",
              "\n",
              "    .dataframe thead th {\n",
              "        text-align: right;\n",
              "    }\n",
              "</style>\n",
              "<table border=\"1\" class=\"dataframe\">\n",
              "  <thead>\n",
              "    <tr style=\"text-align: right;\">\n",
              "      <th></th>\n",
              "      <th>user_id</th>\n",
              "      <th>assignment_id</th>\n",
              "      <th>problem_id</th>\n",
              "      <th>is_final</th>\n",
              "      <th>pre_score</th>\n",
              "      <th>problem_try</th>\n",
              "      <th>id</th>\n",
              "      <th>total_score</th>\n",
              "      <th>QT</th>\n",
              "      <th>GK</th>\n",
              "      <th>TH</th>\n",
              "      <th>CK</th>\n",
              "      <th>TBM</th>\n",
              "      <th>TBTL</th>\n",
              "    </tr>\n",
              "  </thead>\n",
              "  <tbody>\n",
              "    <tr>\n",
              "      <th>0</th>\n",
              "      <td>4</td>\n",
              "      <td>0.0</td>\n",
              "      <td>3.0</td>\n",
              "      <td>1.0</td>\n",
              "      <td>10000.0</td>\n",
              "      <td>41.0</td>\n",
              "      <td>54.0</td>\n",
              "      <td>466000.0</td>\n",
              "      <td>NaN</td>\n",
              "      <td>NaN</td>\n",
              "      <td>NaN</td>\n",
              "      <td>NaN</td>\n",
              "      <td>NaN</td>\n",
              "      <td>NaN</td>\n",
              "    </tr>\n",
              "    <tr>\n",
              "      <th>1</th>\n",
              "      <td>4</td>\n",
              "      <td>0.0</td>\n",
              "      <td>4.0</td>\n",
              "      <td>1.0</td>\n",
              "      <td>10000.0</td>\n",
              "      <td>41.0</td>\n",
              "      <td>54.0</td>\n",
              "      <td>466000.0</td>\n",
              "      <td>NaN</td>\n",
              "      <td>NaN</td>\n",
              "      <td>NaN</td>\n",
              "      <td>NaN</td>\n",
              "      <td>NaN</td>\n",
              "      <td>NaN</td>\n",
              "    </tr>\n",
              "    <tr>\n",
              "      <th>2</th>\n",
              "      <td>4</td>\n",
              "      <td>0.0</td>\n",
              "      <td>5.0</td>\n",
              "      <td>0.0</td>\n",
              "      <td>0.0</td>\n",
              "      <td>41.0</td>\n",
              "      <td>54.0</td>\n",
              "      <td>466000.0</td>\n",
              "      <td>NaN</td>\n",
              "      <td>NaN</td>\n",
              "      <td>NaN</td>\n",
              "      <td>NaN</td>\n",
              "      <td>NaN</td>\n",
              "      <td>NaN</td>\n",
              "    </tr>\n",
              "    <tr>\n",
              "      <th>3</th>\n",
              "      <td>4</td>\n",
              "      <td>0.0</td>\n",
              "      <td>5.0</td>\n",
              "      <td>0.0</td>\n",
              "      <td>0.0</td>\n",
              "      <td>41.0</td>\n",
              "      <td>54.0</td>\n",
              "      <td>466000.0</td>\n",
              "      <td>NaN</td>\n",
              "      <td>NaN</td>\n",
              "      <td>NaN</td>\n",
              "      <td>NaN</td>\n",
              "      <td>NaN</td>\n",
              "      <td>NaN</td>\n",
              "    </tr>\n",
              "    <tr>\n",
              "      <th>4</th>\n",
              "      <td>4</td>\n",
              "      <td>0.0</td>\n",
              "      <td>5.0</td>\n",
              "      <td>0.0</td>\n",
              "      <td>0.0</td>\n",
              "      <td>41.0</td>\n",
              "      <td>54.0</td>\n",
              "      <td>466000.0</td>\n",
              "      <td>NaN</td>\n",
              "      <td>NaN</td>\n",
              "      <td>NaN</td>\n",
              "      <td>NaN</td>\n",
              "      <td>NaN</td>\n",
              "      <td>NaN</td>\n",
              "    </tr>\n",
              "    <tr>\n",
              "      <th>...</th>\n",
              "      <td>...</td>\n",
              "      <td>...</td>\n",
              "      <td>...</td>\n",
              "      <td>...</td>\n",
              "      <td>...</td>\n",
              "      <td>...</td>\n",
              "      <td>...</td>\n",
              "      <td>...</td>\n",
              "      <td>...</td>\n",
              "      <td>...</td>\n",
              "      <td>...</td>\n",
              "      <td>...</td>\n",
              "      <td>...</td>\n",
              "      <td>...</td>\n",
              "    </tr>\n",
              "    <tr>\n",
              "      <th>264615</th>\n",
              "      <td>1699</td>\n",
              "      <td>NaN</td>\n",
              "      <td>NaN</td>\n",
              "      <td>NaN</td>\n",
              "      <td>NaN</td>\n",
              "      <td>NaN</td>\n",
              "      <td>NaN</td>\n",
              "      <td>NaN</td>\n",
              "      <td>9</td>\n",
              "      <td>9</td>\n",
              "      <td></td>\n",
              "      <td>7</td>\n",
              "      <td></td>\n",
              "      <td>6.22</td>\n",
              "    </tr>\n",
              "    <tr>\n",
              "      <th>264616</th>\n",
              "      <td>1723</td>\n",
              "      <td>NaN</td>\n",
              "      <td>NaN</td>\n",
              "      <td>NaN</td>\n",
              "      <td>NaN</td>\n",
              "      <td>NaN</td>\n",
              "      <td>NaN</td>\n",
              "      <td>NaN</td>\n",
              "      <td>NaN</td>\n",
              "      <td>9.5</td>\n",
              "      <td>8.5</td>\n",
              "      <td>9</td>\n",
              "      <td>9</td>\n",
              "      <td>7.29</td>\n",
              "    </tr>\n",
              "    <tr>\n",
              "      <th>264617</th>\n",
              "      <td>1757</td>\n",
              "      <td>NaN</td>\n",
              "      <td>NaN</td>\n",
              "      <td>NaN</td>\n",
              "      <td>NaN</td>\n",
              "      <td>NaN</td>\n",
              "      <td>NaN</td>\n",
              "      <td>NaN</td>\n",
              "      <td>0.5</td>\n",
              "      <td>0</td>\n",
              "      <td>0</td>\n",
              "      <td>0.5</td>\n",
              "      <td>0.3</td>\n",
              "      <td>1.88</td>\n",
              "    </tr>\n",
              "    <tr>\n",
              "      <th>264618</th>\n",
              "      <td>1758</td>\n",
              "      <td>NaN</td>\n",
              "      <td>NaN</td>\n",
              "      <td>NaN</td>\n",
              "      <td>NaN</td>\n",
              "      <td>NaN</td>\n",
              "      <td>NaN</td>\n",
              "      <td>NaN</td>\n",
              "      <td>1.5</td>\n",
              "      <td>1</td>\n",
              "      <td>0</td>\n",
              "      <td>3</td>\n",
              "      <td>1.6</td>\n",
              "      <td>4.03</td>\n",
              "    </tr>\n",
              "    <tr>\n",
              "      <th>264619</th>\n",
              "      <td>1866</td>\n",
              "      <td>NaN</td>\n",
              "      <td>NaN</td>\n",
              "      <td>NaN</td>\n",
              "      <td>NaN</td>\n",
              "      <td>NaN</td>\n",
              "      <td>NaN</td>\n",
              "      <td>NaN</td>\n",
              "      <td>9</td>\n",
              "      <td>7.5</td>\n",
              "      <td>2</td>\n",
              "      <td>5</td>\n",
              "      <td>5</td>\n",
              "      <td>7.05</td>\n",
              "    </tr>\n",
              "  </tbody>\n",
              "</table>\n",
              "<p>264620 rows × 14 columns</p>\n",
              "</div>"
            ],
            "text/plain": [
              "        user_id  assignment_id  problem_id  is_final  ...   TH   CK  TBM  TBTL\n",
              "0             4            0.0         3.0       1.0  ...  NaN  NaN  NaN   NaN\n",
              "1             4            0.0         4.0       1.0  ...  NaN  NaN  NaN   NaN\n",
              "2             4            0.0         5.0       0.0  ...  NaN  NaN  NaN   NaN\n",
              "3             4            0.0         5.0       0.0  ...  NaN  NaN  NaN   NaN\n",
              "4             4            0.0         5.0       0.0  ...  NaN  NaN  NaN   NaN\n",
              "...         ...            ...         ...       ...  ...  ...  ...  ...   ...\n",
              "264615     1699            NaN         NaN       NaN  ...         7       6.22\n",
              "264616     1723            NaN         NaN       NaN  ...  8.5    9    9  7.29\n",
              "264617     1757            NaN         NaN       NaN  ...    0  0.5  0.3  1.88\n",
              "264618     1758            NaN         NaN       NaN  ...    0    3  1.6  4.03\n",
              "264619     1866            NaN         NaN       NaN  ...    2    5    5  7.05\n",
              "\n",
              "[264620 rows x 14 columns]"
            ]
          },
          "metadata": {
            "tags": []
          },
          "execution_count": 63
        }
      ]
    },
    {
      "cell_type": "code",
      "metadata": {
        "colab": {
          "base_uri": "https://localhost:8080/"
        },
        "id": "az3JCjHPf0pM",
        "outputId": "8dd6178f-0d9a-4a24-e2f3-f962e17c2dd3"
      },
      "source": [
        "#Chọn ra các sinh viên có dữ liệu đầy đủ\n",
        "data_merge.dropna(subset = ['user_id','assignment_id','problem_id','is_final','pre_score','problem_try','total_score','QT','GK','TH','CK','TBM','TBTL'], inplace=True)\n",
        "print(data_merge)"
      ],
      "execution_count": 64,
      "outputs": [
        {
          "output_type": "stream",
          "text": [
            "        user_id  assignment_id  problem_id  is_final  ...   TH   CK  TBM  TBTL\n",
            "54         1439            7.0        10.0       0.0  ...  6.5  8.5  7.4  7.41\n",
            "55         1439            7.0        10.0       0.0  ...  6.5  8.5  7.4  7.41\n",
            "56         1439            7.0         1.0       0.0  ...  6.5  8.5  7.4  7.41\n",
            "57         1439            7.0        10.0       0.0  ...  6.5  8.5  7.4  7.41\n",
            "58         1439            7.0        10.0       0.0  ...  6.5  8.5  7.4  7.41\n",
            "...         ...            ...         ...       ...  ...  ...  ...  ...   ...\n",
            "264485     1452          383.0       313.0       1.0  ...    8    6  6.6  7.05\n",
            "264486     1452          383.0       318.0       1.0  ...    8    6  6.6  7.05\n",
            "264487     1452          383.0       319.0       1.0  ...    8    6  6.6  7.05\n",
            "264488     1452          383.0       317.0       1.0  ...    8    6  6.6  7.05\n",
            "264489     1452          383.0       316.0       1.0  ...    8    6  6.6  7.05\n",
            "\n",
            "[207441 rows x 14 columns]\n"
          ],
          "name": "stdout"
        }
      ]
    },
    {
      "cell_type": "markdown",
      "metadata": {
        "id": "q6vKE5O5DZx-"
      },
      "source": [
        "##Vẽ biểu đồ"
      ]
    },
    {
      "cell_type": "code",
      "metadata": {
        "colab": {
          "base_uri": "https://localhost:8080/",
          "height": 298
        },
        "id": "1W_PYVzaDjZH",
        "outputId": "5d55ce59-9444-4765-b654-9a40a091c39a"
      },
      "source": [
        "plt.scatter(data_merge['total_score'], data_merge['problem_try'])\n",
        "plt.xlabel('Tổng điểm')\n",
        "plt.ylabel('Số bài làm')"
      ],
      "execution_count": 75,
      "outputs": [
        {
          "output_type": "execute_result",
          "data": {
            "text/plain": [
              "Text(0, 0.5, 'Số bài làm')"
            ]
          },
          "metadata": {
            "tags": []
          },
          "execution_count": 75
        },
        {
          "output_type": "display_data",
          "data": {
            "image/png": "[encoded data removed]",
            "text/plain": [
              "<Figure size 432x288 with 1 Axes>"
            ]
          },
          "metadata": {
            "tags": [],
            "needs_background": "light"
          }
        }
      ]
    },
    {
      "cell_type": "code",
      "metadata": {
        "colab": {
          "base_uri": "https://localhost:8080/",
          "height": 298
        },
        "id": "61fhojttDmlb",
        "outputId": "7ae7a004-fdc1-4801-eb30-44b20e1fe24c"
      },
      "source": [
        "plt.scatter(data_merge['total_score'], data_merge['TBM'])\n",
        "plt.xlabel('Tổng điểm')\n",
        "plt.ylabel('Trung bình môn')"
      ],
      "execution_count": 76,
      "outputs": [
        {
          "output_type": "execute_result",
          "data": {
            "text/plain": [
              "Text(0, 0.5, 'Trung bình môn')"
            ]
          },
          "metadata": {
            "tags": []
          },
          "execution_count": 76
        },
        {
          "output_type": "display_data",
          "data": {
            "image/png": "[encoded data removed]",
            "text/plain": [
              "<Figure size 432x288 with 1 Axes>"
            ]
          },
          "metadata": {
            "tags": [],
            "needs_background": "light"
          }
        }
      ]
    },
    {
      "cell_type": "code",
      "metadata": {
        "colab": {
          "base_uri": "https://localhost:8080/",
          "height": 298
        },
        "id": "TvEhNJqXiFOc",
        "outputId": "9005e913-83ab-49d8-924e-79d78500406f"
      },
      "source": [
        "columns = data_merge.columns\n",
        "plt.scatter(data_merge['total_score'], data_merge['CK'])\n",
        "plt.xlabel('Tổng điểm')\n",
        "plt.ylabel('Điểm CK')"
      ],
      "execution_count": 77,
      "outputs": [
        {
          "output_type": "execute_result",
          "data": {
            "text/plain": [
              "Text(0, 0.5, 'Điểm CK')"
            ]
          },
          "metadata": {
            "tags": []
          },
          "execution_count": 77
        },
        {
          "output_type": "display_data",
          "data": {
            "image/png": "[encoded data removed]",
            "text/plain": [
              "<Figure size 432x288 with 1 Axes>"
            ]
          },
          "metadata": {
            "tags": [],
            "needs_background": "light"
          }
        }
      ]
    },
    {
      "cell_type": "code",
      "metadata": {
        "colab": {
          "base_uri": "https://localhost:8080/",
          "height": 298
        },
        "id": "rb2sZxOuEpPA",
        "outputId": "228d2df0-9027-48f1-8aa3-94aba2540bab"
      },
      "source": [
        "merge = pd.merge(new_data,df_score, on = 'user_id')\n",
        "merge = merge.dropna()\n",
        "data_plot = merge.copy()\n",
        "data_plot = data_plot.sort_values(by='CK')\n",
        "data1 = data_plot[\"Problems_Correct\"]/ data_plot[\"Total_Problems\"]\n",
        "plt.scatter(data_1, data_plot[\"CK\"])\n",
        "plt.xlabel(\"Tỉ lệ: Số bài giải quyết được / Tổng số bài\")\n",
        "plt.ylabel(\"Điểm CK\")\n"
      ],
      "execution_count": 78,
      "outputs": [
        {
          "output_type": "execute_result",
          "data": {
            "text/plain": [
              "Text(0, 0.5, 'Điểm CK')"
            ]
          },
          "metadata": {
            "tags": []
          },
          "execution_count": 78
        },
        {
          "output_type": "display_data",
          "data": {
            "image/png": "[encoded data removed]",
            "text/plain": [
              "<Figure size 432x288 with 1 Axes>"
            ]
          },
          "metadata": {
            "tags": [],
            "needs_background": "light"
          }
        }
      ]
    },
    {
      "cell_type": "code",
      "metadata": {
        "colab": {
          "base_uri": "https://localhost:8080/",
          "height": 297
        },
        "id": "RUFiYEgZNI-E",
        "outputId": "47938b07-2761-43b0-d234-1fc9e62d2ee4"
      },
      "source": [
        "data2 = data_plot[\"Total_Problems\"]/ data_plot[\"Total_Submits\"]\n",
        "plt.scatter(data2, data_plot[\"CK\"])\n",
        "plt.xlabel(\"Tỉ lệ nộp bài\")\n",
        "plt.ylabel(\"Điểm CK\")"
      ],
      "execution_count": 79,
      "outputs": [
        {
          "output_type": "execute_result",
          "data": {
            "text/plain": [
              "Text(0, 0.5, 'Điểm CK')"
            ]
          },
          "metadata": {
            "tags": []
          },
          "execution_count": 79
        },
        {
          "output_type": "display_data",
          "data": {
            "image/png": "[encoded data removed]",
            "text/plain": [
              "<Figure size 432x288 with 1 Axes>"
            ]
          },
          "metadata": {
            "tags": [],
            "needs_background": "light"
          }
        }
      ]
    },
    {
      "cell_type": "code",
      "metadata": {
        "colab": {
          "base_uri": "https://localhost:8080/",
          "height": 297
        },
        "id": "VchHEVQbOsas",
        "outputId": "51abc6cc-e993-4466-8f83-b51a5e26bd15"
      },
      "source": [
        "data3 = data_plot[\"Submits_Correct\"] / data_plot[\"Total_Submits\"]\n",
        "plt.scatter(data3, data_plot[\"CK\"])\n",
        "plt.xlabel(\"Tỉ lện làm bài đúng\")\n",
        "plt.ylabel(\"Điểm CK\")"
      ],
      "execution_count": 80,
      "outputs": [
        {
          "output_type": "execute_result",
          "data": {
            "text/plain": [
              "Text(0, 0.5, 'Điểm CK')"
            ]
          },
          "metadata": {
            "tags": []
          },
          "execution_count": 80
        },
        {
          "output_type": "display_data",
          "data": {
            "image/png": "[encoded data removed]",
            "text/plain": [
              "<Figure size 432x288 with 1 Axes>"
            ]
          },
          "metadata": {
            "tags": [],
            "needs_background": "light"
          }
        }
      ]
    },
    {
      "cell_type": "markdown",
      "metadata": {
        "id": "PA8U_ohLQFZq"
      },
      "source": [
        "##Dự đoán điểm Cuối Kỳ"
      ]
    },
    {
      "cell_type": "code",
      "metadata": {
        "id": "BQM1Q1yviYyY"
      },
      "source": [
        "from sklearn.linear_model import LinearRegression\n",
        "from sklearn.metrics import mean_squared_error, mean_absolute_error,r2_score"
      ],
      "execution_count": null,
      "outputs": []
    },
    {
      "cell_type": "code",
      "metadata": {
        "colab": {
          "base_uri": "https://localhost:8080/",
          "height": 572
        },
        "id": "tjnqz4HwfMM9",
        "outputId": "ad8446da-e1dc-4697-dcce-b19871c7df82"
      },
      "source": [
        "score_training_data_new = df_score[['user_id', 'CK']]\n",
        "score_training_data_new['CK'] = score_training_data_new['CK'].apply(pd.to_numeric, errors='coerce')\n",
        "score_train = score_training_data_new.dropna(how='any')\n",
        "score_predict = score_training_data_new[score_training_data_new.isna().any(axis=1)]\n",
        "data_train = pd.merge(merge_wecode, score_train, on='user_id', how='inner')\n",
        "data_predict = pd.merge(merge_wecode, score_predict, on='user_id', how='inner')\n",
        "new = ['user_id','assignment_id','problem_id','is_final','pre_score','problem_try','total_score']\n",
        "x_train = np.array(data_train[new])\n",
        "y_train = np.array(data_train['CK'])\n",
        "lR = LinearRegression().fit(x_train, y_train)\n",
        "y_pred=lR.predict(x_train)\n",
        "print(f'R2 Score: {r2_score(y_train, y_pred)}')\n",
        "print(f'Mean squared error: {mean_squared_error(y_train, y_pred)}')\n",
        "print(f'Mean absolute error score: {mean_absolute_error(y_train, y_pred)}')\n",
        "data_predict['CK'] = y_predict\n",
        "data_predict"
      ],
      "execution_count": 118,
      "outputs": [
        {
          "output_type": "stream",
          "text": [
            "/usr/local/lib/python3.7/dist-packages/ipykernel_launcher.py:2: SettingWithCopyWarning: \n",
            "A value is trying to be set on a copy of a slice from a DataFrame.\n",
            "Try using .loc[row_indexer,col_indexer] = value instead\n",
            "\n",
            "See the caveats in the documentation: https://pandas.pydata.org/pandas-docs/stable/user_guide/indexing.html#returning-a-view-versus-a-copy\n",
            "  \n"
          ],
          "name": "stderr"
        },
        {
          "output_type": "stream",
          "text": [
            "R2 Score: 0.295069168003265\n",
            "Mean squared error: 2.8048974547243666\n",
            "Mean absolute error score: 1.3316952012803764\n"
          ],
          "name": "stdout"
        },
        {
          "output_type": "execute_result",
          "data": {
            "text/html": [
              "<div>\n",
              "<style scoped>\n",
              "    .dataframe tbody tr th:only-of-type {\n",
              "        vertical-align: middle;\n",
              "    }\n",
              "\n",
              "    .dataframe tbody tr th {\n",
              "        vertical-align: top;\n",
              "    }\n",
              "\n",
              "    .dataframe thead th {\n",
              "        text-align: right;\n",
              "    }\n",
              "</style>\n",
              "<table border=\"1\" class=\"dataframe\">\n",
              "  <thead>\n",
              "    <tr style=\"text-align: right;\">\n",
              "      <th></th>\n",
              "      <th>user_id</th>\n",
              "      <th>assignment_id</th>\n",
              "      <th>problem_id</th>\n",
              "      <th>is_final</th>\n",
              "      <th>pre_score</th>\n",
              "      <th>problem_try</th>\n",
              "      <th>id</th>\n",
              "      <th>total_score</th>\n",
              "      <th>CK</th>\n",
              "    </tr>\n",
              "  </thead>\n",
              "  <tbody>\n",
              "    <tr>\n",
              "      <th>0</th>\n",
              "      <td>1546</td>\n",
              "      <td>12</td>\n",
              "      <td>21</td>\n",
              "      <td>0</td>\n",
              "      <td>0</td>\n",
              "      <td>109</td>\n",
              "      <td>434</td>\n",
              "      <td>2173972</td>\n",
              "      <td>6.5</td>\n",
              "    </tr>\n",
              "    <tr>\n",
              "      <th>1</th>\n",
              "      <td>1546</td>\n",
              "      <td>12</td>\n",
              "      <td>11</td>\n",
              "      <td>0</td>\n",
              "      <td>0</td>\n",
              "      <td>109</td>\n",
              "      <td>434</td>\n",
              "      <td>2173972</td>\n",
              "      <td>6.5</td>\n",
              "    </tr>\n",
              "    <tr>\n",
              "      <th>2</th>\n",
              "      <td>1546</td>\n",
              "      <td>12</td>\n",
              "      <td>11</td>\n",
              "      <td>0</td>\n",
              "      <td>0</td>\n",
              "      <td>109</td>\n",
              "      <td>434</td>\n",
              "      <td>2173972</td>\n",
              "      <td>6.5</td>\n",
              "    </tr>\n",
              "    <tr>\n",
              "      <th>3</th>\n",
              "      <td>1546</td>\n",
              "      <td>12</td>\n",
              "      <td>21</td>\n",
              "      <td>0</td>\n",
              "      <td>0</td>\n",
              "      <td>109</td>\n",
              "      <td>434</td>\n",
              "      <td>2173972</td>\n",
              "      <td>6.5</td>\n",
              "    </tr>\n",
              "    <tr>\n",
              "      <th>4</th>\n",
              "      <td>1546</td>\n",
              "      <td>12</td>\n",
              "      <td>21</td>\n",
              "      <td>0</td>\n",
              "      <td>0</td>\n",
              "      <td>109</td>\n",
              "      <td>434</td>\n",
              "      <td>2173972</td>\n",
              "      <td>6.5</td>\n",
              "    </tr>\n",
              "    <tr>\n",
              "      <th>...</th>\n",
              "      <td>...</td>\n",
              "      <td>...</td>\n",
              "      <td>...</td>\n",
              "      <td>...</td>\n",
              "      <td>...</td>\n",
              "      <td>...</td>\n",
              "      <td>...</td>\n",
              "      <td>...</td>\n",
              "      <td>...</td>\n",
              "    </tr>\n",
              "    <tr>\n",
              "      <th>14982</th>\n",
              "      <td>1048</td>\n",
              "      <td>335</td>\n",
              "      <td>363</td>\n",
              "      <td>0</td>\n",
              "      <td>2142</td>\n",
              "      <td>83</td>\n",
              "      <td>182</td>\n",
              "      <td>1026982</td>\n",
              "      <td>6.0</td>\n",
              "    </tr>\n",
              "    <tr>\n",
              "      <th>14983</th>\n",
              "      <td>1048</td>\n",
              "      <td>335</td>\n",
              "      <td>363</td>\n",
              "      <td>1</td>\n",
              "      <td>10000</td>\n",
              "      <td>83</td>\n",
              "      <td>182</td>\n",
              "      <td>1026982</td>\n",
              "      <td>6.0</td>\n",
              "    </tr>\n",
              "    <tr>\n",
              "      <th>14984</th>\n",
              "      <td>1048</td>\n",
              "      <td>335</td>\n",
              "      <td>362</td>\n",
              "      <td>1</td>\n",
              "      <td>10000</td>\n",
              "      <td>83</td>\n",
              "      <td>182</td>\n",
              "      <td>1026982</td>\n",
              "      <td>6.0</td>\n",
              "    </tr>\n",
              "    <tr>\n",
              "      <th>14985</th>\n",
              "      <td>1048</td>\n",
              "      <td>335</td>\n",
              "      <td>361</td>\n",
              "      <td>1</td>\n",
              "      <td>10000</td>\n",
              "      <td>83</td>\n",
              "      <td>182</td>\n",
              "      <td>1026982</td>\n",
              "      <td>6.0</td>\n",
              "    </tr>\n",
              "    <tr>\n",
              "      <th>14986</th>\n",
              "      <td>1048</td>\n",
              "      <td>335</td>\n",
              "      <td>362</td>\n",
              "      <td>0</td>\n",
              "      <td>10000</td>\n",
              "      <td>83</td>\n",
              "      <td>182</td>\n",
              "      <td>1026982</td>\n",
              "      <td>6.5</td>\n",
              "    </tr>\n",
              "  </tbody>\n",
              "</table>\n",
              "<p>14987 rows × 9 columns</p>\n",
              "</div>"
            ],
            "text/plain": [
              "       user_id  assignment_id  problem_id  ...   id  total_score   CK\n",
              "0         1546             12          21  ...  434      2173972  6.5\n",
              "1         1546             12          11  ...  434      2173972  6.5\n",
              "2         1546             12          11  ...  434      2173972  6.5\n",
              "3         1546             12          21  ...  434      2173972  6.5\n",
              "4         1546             12          21  ...  434      2173972  6.5\n",
              "...        ...            ...         ...  ...  ...          ...  ...\n",
              "14982     1048            335         363  ...  182      1026982  6.0\n",
              "14983     1048            335         363  ...  182      1026982  6.0\n",
              "14984     1048            335         362  ...  182      1026982  6.0\n",
              "14985     1048            335         361  ...  182      1026982  6.0\n",
              "14986     1048            335         362  ...  182      1026982  6.5\n",
              "\n",
              "[14987 rows x 9 columns]"
            ]
          },
          "metadata": {
            "tags": []
          },
          "execution_count": 118
        }
      ]
    }
  ]
}